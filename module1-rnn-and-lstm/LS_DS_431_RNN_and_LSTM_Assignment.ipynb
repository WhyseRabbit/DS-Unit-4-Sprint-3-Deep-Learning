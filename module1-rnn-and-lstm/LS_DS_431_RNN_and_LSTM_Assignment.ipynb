{
 "cells": [
  {
   "cell_type": "markdown",
   "metadata": {},
   "source": [
    "\n",
    "## *Data Science Unit 4 Sprint 3 Assignment 1*\n",
    "\n",
    "# Recurrent Neural Networks and Long Short Term Memory (LSTM)\n",
    "\n",
    "![Monkey at a typewriter](https://upload.wikimedia.org/wikipedia/commons/thumb/3/3c/Chimpanzee_seated_at_typewriter.jpg/603px-Chimpanzee_seated_at_typewriter.jpg)\n",
    "\n",
    "It is said that [**infinite monkeys typing for an infinite amount of time**](https://en.wikipedia.org/wiki/Infinite_monkey_theorem) will eventually type, among other things, the complete works of William Shakespeare. Let's see if we can get there a bit faster, with the power of Recurrent Neural Networks and LSTM.\n",
    "\n",
    "We will focus specifically on Shakespeare's Sonnets in order to improve our model's ability to learn from the data."
   ]
  },
  {
   "cell_type": "code",
   "execution_count": 1,
   "metadata": {
    "execution": {
     "iopub.execute_input": "2020-06-15T18:18:20.453Z",
     "iopub.status.busy": "2020-06-15T18:18:20.442Z",
     "iopub.status.idle": "2020-06-15T18:18:20.513Z",
     "shell.execute_reply": "2020-06-15T18:18:20.523Z"
    }
   },
   "outputs": [
    {
     "name": "stdout",
     "output_type": "stream",
     "text": [
      "INFO:tensorflow:Enabling eager execution\n",
      "INFO:tensorflow:Enabling v2 tensorshape\n",
      "INFO:tensorflow:Enabling resource variables\n",
      "INFO:tensorflow:Enabling tensor equality\n",
      "INFO:tensorflow:Enabling control flow v2\n"
     ]
    }
   ],
   "source": [
    "import random\n",
    "import sys\n",
    "import os\n",
    "\n",
    "import requests\n",
    "import pandas as pd\n",
    "import numpy as np\n",
    "import matplotlib.pyplot as plt\n",
    "from tensorflow.keras.callbacks import LambdaCallback\n",
    "\n",
    "from tensorflow.keras.preprocessing import sequence\n",
    "from tensorflow.keras.models import Sequential\n",
    "from tensorflow.keras.layers import Dense, Embedding, Bidirectional\n",
    "from tensorflow.keras.layers import LSTM\n",
    "\n",
    "%matplotlib inline\n",
    "\n",
    "# a custom data prep class that we'll be using \n",
    "from data_cleaning_toolkit_class import data_cleaning_toolkit"
   ]
  },
  {
   "cell_type": "markdown",
   "metadata": {},
   "source": [
    "### Use request to pull data from a URL\n",
    "\n",
    "[**Read through the request documentation**](https://requests.readthedocs.io/en/master/user/quickstart/#make-a-request) in order to learn how to download the Shakespeare Sonnets from the Gutenberg website. \n",
    "\n",
    "**Protip:** Do not over think it."
   ]
  },
  {
   "cell_type": "code",
   "execution_count": 2,
   "metadata": {
    "deletable": false,
    "nbgrader": {
     "cell_type": "code",
     "checksum": "6ac79c2e9a53d747ebf8fb41f4b39340",
     "grade": false,
     "grade_id": "cell-b8ececfad1f60557",
     "locked": false,
     "schema_version": 3,
     "solution": true,
     "task": false
    }
   },
   "outputs": [],
   "source": [
    "# download all of Shakespears Sonnets from the Project Gutenberg website\n",
    "\n",
    "# here's the link for the sonnets\n",
    "url_shakespeare_sonnets = \"https://www.gutenberg.org/cache/epub/1041/pg1041.txt\"\n",
    "\n",
    "# use request and the url to download all of the sonnets - save the result to `r`\n",
    "\n",
    "r = requests.get(url_shakespeare_sonnets)"
   ]
  },
  {
   "cell_type": "code",
   "execution_count": 3,
   "metadata": {},
   "outputs": [
    {
     "data": {
      "text/plain": [
       "['__attrs__',\n",
       " '__bool__',\n",
       " '__class__',\n",
       " '__delattr__',\n",
       " '__dict__',\n",
       " '__dir__',\n",
       " '__doc__',\n",
       " '__enter__',\n",
       " '__eq__',\n",
       " '__exit__',\n",
       " '__format__',\n",
       " '__ge__',\n",
       " '__getattribute__',\n",
       " '__getstate__',\n",
       " '__gt__',\n",
       " '__hash__',\n",
       " '__init__',\n",
       " '__init_subclass__',\n",
       " '__iter__',\n",
       " '__le__',\n",
       " '__lt__',\n",
       " '__module__',\n",
       " '__ne__',\n",
       " '__new__',\n",
       " '__nonzero__',\n",
       " '__reduce__',\n",
       " '__reduce_ex__',\n",
       " '__repr__',\n",
       " '__setattr__',\n",
       " '__setstate__',\n",
       " '__sizeof__',\n",
       " '__str__',\n",
       " '__subclasshook__',\n",
       " '__weakref__',\n",
       " '_content',\n",
       " '_content_consumed',\n",
       " '_next',\n",
       " 'apparent_encoding',\n",
       " 'close',\n",
       " 'connection',\n",
       " 'content',\n",
       " 'cookies',\n",
       " 'elapsed',\n",
       " 'encoding',\n",
       " 'headers',\n",
       " 'history',\n",
       " 'is_permanent_redirect',\n",
       " 'is_redirect',\n",
       " 'iter_content',\n",
       " 'iter_lines',\n",
       " 'json',\n",
       " 'links',\n",
       " 'next',\n",
       " 'ok',\n",
       " 'raise_for_status',\n",
       " 'raw',\n",
       " 'reason',\n",
       " 'request',\n",
       " 'status_code',\n",
       " 'text',\n",
       " 'url']"
      ]
     },
     "execution_count": 3,
     "metadata": {},
     "output_type": "execute_result"
    }
   ],
   "source": [
    "dir(r)"
   ]
  },
  {
   "cell_type": "code",
   "execution_count": 4,
   "metadata": {
    "deletable": false,
    "nbgrader": {
     "cell_type": "code",
     "checksum": "4ab4f4f14188a9f3703d43d223bfa150",
     "grade": false,
     "grade_id": "cell-0cd0c8509bc8e8cf",
     "locked": false,
     "schema_version": 3,
     "solution": true,
     "task": false
    }
   },
   "outputs": [],
   "source": [
    "# move the downloaded text out of the request object - save the result to `raw_text_data`\n",
    "# hint: take at look at the attributes of `r`\n",
    "\n",
    "raw_text_data = r.text"
   ]
  },
  {
   "cell_type": "code",
   "execution_count": 5,
   "metadata": {},
   "outputs": [
    {
     "data": {
      "text/plain": [
       "str"
      ]
     },
     "execution_count": 5,
     "metadata": {},
     "output_type": "execute_result"
    }
   ],
   "source": [
    "# check the data type of `raw_text_data`\n",
    "type(raw_text_data)"
   ]
  },
  {
   "cell_type": "markdown",
   "metadata": {},
   "source": [
    "### Data Cleaning"
   ]
  },
  {
   "cell_type": "code",
   "execution_count": 6,
   "metadata": {
    "scrolled": false
   },
   "outputs": [
    {
     "data": {
      "text/plain": [
       "\"\\ufeffThe Project Gutenberg EBook of Shakespeare's Sonnets, by William Shakespeare\\r\\n\\r\\nThis eBook is for the use of anyone anywhere at no cost and with\\r\\nalmost no restrictions whatsoever.  You may copy it, give it away or\\r\\nre-use it under the terms of the Project Gutenberg License included\\r\\nwith this eBook or online at www.gutenberg.org\\r\\n\\r\\n\\r\\nTitle: Shakespeare's Sonnets\\r\\n\\r\\nAuthor: William Shakespeare\\r\\n\\r\\nPosting Date: April 7, 2014 [EBook #1041]\\r\\nRelease Date: September, 1997\\r\\nLast Updated: March 10, 2010\\r\\n\\r\\nLanguage: English\\r\\n\\r\\n\\r\\n*** START OF THIS PROJECT GUTENBERG EBOOK SHAKESPEARE'S SONNETS ***\\r\\n\\r\\n\\r\\n\\r\\n\\r\\nProduced by Joseph S. Miller and Embry-Riddle Aeronautical\\r\\nUniversity Library. HTML version by Al Haines.\\r\\n\\r\\n\\r\\n\\r\\n\\r\\n\\r\\n\\r\\n\\r\\n\\r\\n\\r\\n\\r\\nTHE SONNETS\\r\\n\\r\\nby William Shakespeare\\r\\n\\r\\n\\r\\n\\r\\n\\r\\n  I\\r\\n\\r\\n  From fairest creatures we desire increase,\\r\\n  That thereby beauty's rose might never die,\\r\\n  But as the riper should by time decease,\\r\\n  His tender heir might bear his memory:\\r\\n  But thou, contracted to thine own bright eyes,\\r\\n  Feed'st thy light's flame with self-substantial fuel,\\r\\n  Making a famine where abundance lies,\\r\\n  Thy self thy foe, to thy sweet self too cruel:\\r\\n  Thou that art now the world's fresh ornament,\\r\\n  And only herald to the gaudy spring,\\r\\n  Within thine own bud buriest thy content,\\r\\n  And tender churl mak'st waste in niggarding:\\r\\n    Pity the world, or else this glutton be,\\r\\n    To eat the world's due, by the grave and thee.\\r\\n\\r\\n  II\\r\\n\\r\\n  When forty winters shall besiege thy brow,\\r\\n  And dig deep trenches in thy beauty's field,\\r\\n  Thy youth's proud livery so gazed on now,\\r\\n  Will be a tatter'd weed of small worth held:\\r\\n  Then being asked, where all thy beauty lies,\\r\\n  Where all the treasure of thy lusty days;\\r\\n  To say, within thine own deep sunken eyes,\\r\\n  Were an all-eating shame, and thriftless praise.\\r\\n  How much more praise deserv'd thy beauty's use,\\r\\n  If thou couldst answer 'This fair child of mine\\r\\n  Shall sum my count, and make my old excuse,'\\r\\n  Proving his beauty by succession thine!\\r\\n    This were to be new made when thou art old,\\r\\n    And see thy blood warm when thou feel'st it cold.\\r\\n\\r\\n  III\\r\\n\\r\\n  Look in thy glass and tell the face thou viewest\\r\\n  Now is the time that face should form another;\\r\\n  Whose fresh repair if now thou not renewest,\\r\\n  Thou dost beguile the world, unbless some mother.\\r\\n  For where is she so fair whose unear'd womb\\r\\n  Disdains the tillage of thy husbandry?\\r\\n  Or who is he so fond will be the tomb,\\r\\n  Of his self-love to stop posterity?\\r\\n  Thou art thy mother's glass and she in thee\\r\\n  Calls back the lovely April of her prime;\\r\\n  So thou through windows of thine age shalt see,\\r\\n  Despite of wrinkles this thy golden time.\\r\\n    But if thou live, remember'd not to be,\\r\\n    Die single and thine image dies with thee.\\r\\n\\r\\n  IV\\r\\n\\r\\n  Unthrifty loveliness, why dost thou spend\\r\\n  Upon thy self thy beauty's legacy?\\r\\n  Nature's bequest gives nothing, but doth lend,\\r\\n  And being frank she lends to those are free:\\r\\n  Then, beaut\""
      ]
     },
     "execution_count": 6,
     "metadata": {},
     "output_type": "execute_result"
    }
   ],
   "source": [
    "# as usual, we are tasked with cleaning up messy data\n",
    "# Question: Do you see any characters that we could use to split up the text?\n",
    "raw_text_data[:3000]"
   ]
  },
  {
   "cell_type": "code",
   "execution_count": 7,
   "metadata": {},
   "outputs": [],
   "source": [
    "dctk = data_cleaning_toolkit()"
   ]
  },
  {
   "cell_type": "code",
   "execution_count": 8,
   "metadata": {},
   "outputs": [],
   "source": [
    "text = dctk.clean_data(raw_text_data)"
   ]
  },
  {
   "cell_type": "code",
   "execution_count": 9,
   "metadata": {},
   "outputs": [],
   "source": [
    "split_data = text.split(\"\\r\")"
   ]
  },
  {
   "cell_type": "code",
   "execution_count": 10,
   "metadata": {
    "deletable": false,
    "nbgrader": {
     "cell_type": "code",
     "checksum": "13b66e41cc64459f0757f6f53a78e08f",
     "grade": false,
     "grade_id": "cell-916f742d2cea299a",
     "locked": false,
     "schema_version": 3,
     "solution": true,
     "task": false
    }
   },
   "outputs": [],
   "source": [
    "# split the text into lines and save the result to `split_data`\n",
    "# YOUR CODE HERE\n",
    "# dir(data_cleaning_toolkit())\n",
    "# type(data_cleaning_toolkit())\n",
    "# for delimiter in delimiters:\n",
    "#     new_words = []\n",
    "#     for word in words:\n",
    "#         new_words += word.split(delimiter)\n",
    "#     split_data = new_words\n",
    "\n",
    "# split_data = words(raw_text_data)"
   ]
  },
  {
   "cell_type": "code",
   "execution_count": 11,
   "metadata": {},
   "outputs": [
    {
     "data": {
      "text/plain": [
       "['the project gutenberg ebook of shakespeares sonnets by william shakespeare',\n",
       " ' ',\n",
       " ' this ebook is for the use of anyone anywhere at no cost and with',\n",
       " ' almost no restrictions whatsoeveryou may copy it give it away or',\n",
       " ' reuse it under the terms of the project gutenberg license included',\n",
       " ' with this ebook or online at wwwgutenbergorg',\n",
       " ' ',\n",
       " ' ',\n",
       " ' title shakespeares sonnets',\n",
       " ' ',\n",
       " ' author william shakespeare',\n",
       " ' ',\n",
       " ' posting date aprilebook ',\n",
       " ' release date september ',\n",
       " ' last updated march',\n",
       " ' ',\n",
       " ' language english',\n",
       " ' ',\n",
       " ' ',\n",
       " 'start of this project gutenberg ebook shakespeares sonnets ']"
      ]
     },
     "execution_count": 11,
     "metadata": {},
     "output_type": "execute_result"
    }
   ],
   "source": [
    "# we need to drop all the boilder plate text (i.e. titles and descriptions) as well as white spaces\n",
    "# so that we are left with only the sonnets themselves \n",
    "split_data[:20] "
   ]
  },
  {
   "cell_type": "markdown",
   "metadata": {},
   "source": [
    "**Use list index slicing in order to remove the titles and descriptions so we are only left with the sonnets.**\n"
   ]
  },
  {
   "cell_type": "code",
   "execution_count": 12,
   "metadata": {
    "deletable": false,
    "nbgrader": {
     "cell_type": "code",
     "checksum": "00ead0a1024ff72116c24f6b473c1aac",
     "grade": false,
     "grade_id": "cell-1f388b88b0eec24a",
     "locked": false,
     "schema_version": 3,
     "solution": true,
     "task": false
    }
   },
   "outputs": [],
   "source": [
    "# sonnets exists between these indicies \n",
    "# titles and descriptions exist outside of these indicies\n",
    "\n",
    "# use index slicing to isolate the sonnet lines - save the result to `sonnets`\n",
    "\n",
    "sonnets = split_data[35:]"
   ]
  },
  {
   "cell_type": "code",
   "execution_count": 13,
   "metadata": {},
   "outputs": [
    {
     "data": {
      "text/plain": [
       "['when i behold the violet past prime',\n",
       " 'and sable curls all silvered oer with white',\n",
       " 'when lofty trees i see barren of leaves',\n",
       " 'which erst from heat did canopy the herd',\n",
       " 'and summers green all girded up in sheaves',\n",
       " 'borne on the bier with white and bristly beard',\n",
       " 'then of thy beauty do i question make',\n",
       " 'that thou among the wastes of time must go',\n",
       " 'since sweets and beauties do themselves forsake',\n",
       " 'and die as fast as they see others grow',\n",
       " 'and nothing gainst times scythe can make defence',\n",
       " 'save breed to brave him when he takes thee hence',\n",
       " ' ',\n",
       " 'xiii',\n",
       " ' ',\n",
       " 'o that you were your self but love you are',\n",
       " 'no longer yours than you your self here live',\n",
       " 'against this coming end you should prepare',\n",
       " 'and your sweet semblance to some other give',\n",
       " 'so should that beauty which you hold in lease',\n",
       " 'find no determination then you were',\n",
       " 'yourself again after yourselfs decease',\n",
       " 'when your sweet issue your sweet form should bear',\n",
       " 'who lets so fair a house fall to decay',\n",
       " 'which husbandry in honour might uphold',\n",
       " 'against the stormy gusts of winters day',\n",
       " 'and barren rage of deaths eternal cold',\n",
       " 'o none but unthrifts dear my love you know',\n",
       " 'you had a father let your son say so',\n",
       " ' ',\n",
       " 'xiv',\n",
       " ' ',\n",
       " 'not from the stars do i my judgement pluck',\n",
       " 'and yet methinks i have astronomy',\n",
       " 'but not to tell of good or evil luck',\n",
       " 'of plagues of dearths or seasons quality',\n",
       " 'nor can i fortune to brief minutes tell',\n",
       " 'pointing to each his thunder rain and wind',\n",
       " 'or say with princes if it shall go well',\n",
       " 'by oft predict that i in heaven find']"
      ]
     },
     "execution_count": 13,
     "metadata": {},
     "output_type": "execute_result"
    }
   ],
   "source": [
    "# notice how all non-sonnet lines have far less characters than the actual sonnet lines?\n",
    "# well, let's use that observation to filter out all the non-sonnet lines\n",
    "sonnets[200:240]"
   ]
  },
  {
   "cell_type": "code",
   "execution_count": 14,
   "metadata": {
    "deletable": false,
    "nbgrader": {
     "cell_type": "code",
     "checksum": "649cf52260448a5faf539ad6b6e8e6e8",
     "grade": false,
     "grade_id": "cell-84c4b3cf1f3c032a",
     "locked": false,
     "schema_version": 3,
     "solution": true,
     "task": false
    }
   },
   "outputs": [],
   "source": [
    "# any string with less than n_chars characters will be filtered out - save results to `filtered_sonnets`\n",
    "\n",
    "# filtered_sonnets = list(set(sonnets))"
   ]
  },
  {
   "cell_type": "code",
   "execution_count": 15,
   "metadata": {},
   "outputs": [],
   "source": [
    "# filtered_sonnets"
   ]
  },
  {
   "cell_type": "code",
   "execution_count": 16,
   "metadata": {},
   "outputs": [],
   "source": [
    "# ok - much better!\n",
    "# but we still need to remove all the punctuation and case normalize the text\n",
    "# filtered_sonnets"
   ]
  },
  {
   "cell_type": "markdown",
   "metadata": {},
   "source": [
    "### Use custom data cleaning tool \n",
    "\n",
    "Use one of the methods in `data_cleaning_toolkit` to clean your data.\n",
    "\n",
    "There is an example of this in the guided project."
   ]
  },
  {
   "cell_type": "code",
   "execution_count": 17,
   "metadata": {
    "deletable": false,
    "nbgrader": {
     "cell_type": "code",
     "checksum": "a722083a29139936744ff9a341e1c9a3",
     "grade": false,
     "grade_id": "cell-775c14b456d8a724",
     "locked": false,
     "schema_version": 3,
     "solution": true,
     "task": false
    }
   },
   "outputs": [],
   "source": [
    "# instantiate the data_cleaning_toolkit class - save result to `dctk`\n",
    "\n",
    "# dctk = data_cleaning_toolkit()"
   ]
  },
  {
   "cell_type": "code",
   "execution_count": 18,
   "metadata": {
    "deletable": false,
    "nbgrader": {
     "cell_type": "code",
     "checksum": "ab91e612cd08068f3a36172979157d5d",
     "grade": false,
     "grade_id": "cell-684010b6a7360876",
     "locked": false,
     "schema_version": 3,
     "solution": true,
     "task": false
    }
   },
   "outputs": [],
   "source": [
    "# use data_cleaning_toolkit to remove punctuation and to case normalize - save results to `clean_sonnets`\n",
    "\n",
    "# dir(dctk)"
   ]
  },
  {
   "cell_type": "code",
   "execution_count": 19,
   "metadata": {},
   "outputs": [],
   "source": [
    "# dctk.clean_data(split_data)"
   ]
  },
  {
   "cell_type": "code",
   "execution_count": 20,
   "metadata": {},
   "outputs": [],
   "source": [
    "clean_sonnets = list(set(sonnets))"
   ]
  },
  {
   "cell_type": "code",
   "execution_count": 21,
   "metadata": {},
   "outputs": [
    {
     "data": {
      "text/plain": [
       "2607"
      ]
     },
     "execution_count": 21,
     "metadata": {},
     "output_type": "execute_result"
    }
   ],
   "source": [
    "# much better!\n",
    "len(clean_sonnets)"
   ]
  },
  {
   "cell_type": "code",
   "execution_count": 22,
   "metadata": {},
   "outputs": [
    {
     "data": {
      "text/plain": [
       "41"
      ]
     },
     "execution_count": 22,
     "metadata": {},
     "output_type": "execute_result"
    }
   ],
   "source": [
    "len(clean_sonnets[5])"
   ]
  },
  {
   "cell_type": "markdown",
   "metadata": {},
   "source": [
    "### Use your data tool to create character sequences \n",
    "\n",
    "We'll need the `create_char_sequenes` method for this task. However this method requires a parameter call `maxlen` which is responsible for setting the maximum sequence length. \n",
    "\n",
    "So what would be a good sequence length, exactly? \n",
    "\n",
    "In order to answer that question, let's do some statistics! "
   ]
  },
  {
   "cell_type": "code",
   "execution_count": 23,
   "metadata": {
    "deletable": false,
    "nbgrader": {
     "cell_type": "code",
     "checksum": "1deebea2ada0a7dc7d2eb08295ee1e2b",
     "grade": false,
     "grade_id": "cell-9ebdaa2654dd29ab",
     "locked": false,
     "schema_version": 3,
     "solution": true,
     "task": false
    }
   },
   "outputs": [],
   "source": [
    "def calc_stats(corpus):\n",
    "    \"\"\"\n",
    "    Calculates statisics on the length of every line in the sonnets\n",
    "    \"\"\"\n",
    "    \n",
    "    # write a list comprehension that calculates each sonnets line length - save the results to `doc_lens` \n",
    "\n",
    "    # use numpy to calcualte and return the mean, median, std, max, min of the doc lens - all in one line of code\n",
    "    \n",
    "    temp = [len(ele) for ele in corpus]\n",
    "    res = 0 if len(temp) == 1 else temp\n",
    "    \n",
    "    return np.mean(res), np.median(res), np.std(res), np.max(res), np.min(res)"
   ]
  },
  {
   "cell_type": "code",
   "execution_count": 24,
   "metadata": {},
   "outputs": [
    {
     "data": {
      "text/plain": [
       "(40.783659378596084, 41.0, 12.622578632237355, 73, 1)"
      ]
     },
     "execution_count": 24,
     "metadata": {},
     "output_type": "execute_result"
    }
   ],
   "source": [
    "# sonnet line length statistics \n",
    "mean, med, std, max_, min_ = calc_stats(clean_sonnets)\n",
    "mean, med, std, max_, min_ "
   ]
  },
  {
   "cell_type": "code",
   "execution_count": 25,
   "metadata": {},
   "outputs": [
    {
     "name": "stdout",
     "output_type": "stream",
     "text": [
      "sequences:  21778\n"
     ]
    }
   ],
   "source": [
    "dctk.create_char_sequenes(clean_sonnets, maxlen=41)"
   ]
  },
  {
   "cell_type": "code",
   "execution_count": 26,
   "metadata": {},
   "outputs": [
    {
     "data": {
      "text/plain": [
       "['__class__',\n",
       " '__delattr__',\n",
       " '__dict__',\n",
       " '__dir__',\n",
       " '__doc__',\n",
       " '__eq__',\n",
       " '__format__',\n",
       " '__ge__',\n",
       " '__getattribute__',\n",
       " '__gt__',\n",
       " '__hash__',\n",
       " '__init__',\n",
       " '__init_subclass__',\n",
       " '__le__',\n",
       " '__lt__',\n",
       " '__module__',\n",
       " '__ne__',\n",
       " '__new__',\n",
       " '__reduce__',\n",
       " '__reduce_ex__',\n",
       " '__repr__',\n",
       " '__setattr__',\n",
       " '__sizeof__',\n",
       " '__str__',\n",
       " '__subclasshook__',\n",
       " '__weakref__',\n",
       " 'char_int',\n",
       " 'chars',\n",
       " 'clean_data',\n",
       " 'create_X_and_Y',\n",
       " 'create_char_sequenes',\n",
       " 'int_char',\n",
       " 'maxlen',\n",
       " 'n_features',\n",
       " 'next_char',\n",
       " 'sequences']"
      ]
     },
     "execution_count": 26,
     "metadata": {},
     "output_type": "execute_result"
    }
   ],
   "source": [
    "dir(dctk)"
   ]
  },
  {
   "cell_type": "code",
   "execution_count": 27,
   "metadata": {
    "deletable": false,
    "nbgrader": {
     "cell_type": "code",
     "checksum": "690957e46b6f2f32c1f17756d8ceab5b",
     "grade": false,
     "grade_id": "cell-35185e26897aad7e",
     "locked": false,
     "schema_version": 3,
     "solution": true,
     "task": false
    }
   },
   "outputs": [],
   "source": [
    "# using the results of the sonnet line length statistics, use your judgement and select a value for maxlen\n",
    "# use .create_char_sequences() to create sequences\n",
    "\n"
   ]
  },
  {
   "cell_type": "code",
   "execution_count": null,
   "metadata": {},
   "outputs": [],
   "source": []
  },
  {
   "cell_type": "code",
   "execution_count": null,
   "metadata": {},
   "outputs": [],
   "source": []
  },
  {
   "cell_type": "code",
   "execution_count": null,
   "metadata": {},
   "outputs": [],
   "source": []
  },
  {
   "cell_type": "code",
   "execution_count": null,
   "metadata": {},
   "outputs": [],
   "source": []
  },
  {
   "cell_type": "code",
   "execution_count": null,
   "metadata": {},
   "outputs": [],
   "source": []
  },
  {
   "cell_type": "markdown",
   "metadata": {},
   "source": [
    "Take a look at the `data_cleaning_toolkit_class.py` file. \n",
    "\n",
    "In the first 4 lines of code in the `create_char_sequences` method, class attributes `n_features` and `unique_chars` are created. Let's call them in the cells below."
   ]
  },
  {
   "cell_type": "code",
   "execution_count": 28,
   "metadata": {},
   "outputs": [
    {
     "data": {
      "text/plain": [
       "27"
      ]
     },
     "execution_count": 28,
     "metadata": {},
     "output_type": "execute_result"
    }
   ],
   "source": [
    "# number of input features for our LSTM model\n",
    "dctk.n_features"
   ]
  },
  {
   "cell_type": "code",
   "execution_count": 29,
   "metadata": {},
   "outputs": [
    {
     "data": {
      "text/plain": [
       "['r',\n",
       " 'g',\n",
       " 'y',\n",
       " ' ',\n",
       " 'v',\n",
       " 'f',\n",
       " 'b',\n",
       " 't',\n",
       " 's',\n",
       " 'j',\n",
       " 'm',\n",
       " 'l',\n",
       " 'a',\n",
       " 'z',\n",
       " 'p',\n",
       " 'i',\n",
       " 'w',\n",
       " 'q',\n",
       " 'o',\n",
       " 'u',\n",
       " 'h',\n",
       " 'x',\n",
       " 'd',\n",
       " 'k',\n",
       " 'c',\n",
       " 'e',\n",
       " 'n']"
      ]
     },
     "execution_count": 29,
     "metadata": {},
     "output_type": "execute_result"
    }
   ],
   "source": [
    "# unique charactes that appear in our sonnets \n",
    "dctk.chars"
   ]
  },
  {
   "cell_type": "markdown",
   "metadata": {},
   "source": [
    "## Time for Questions \n",
    "\n",
    "----\n",
    "**Question 1:** \n",
    "\n",
    "Why are the `number of unique characters` (i.e. **dctk.unique_chars**) and the `number of model input features` (i.e. **dctk.n_features**) the same?\n",
    "\n",
    "**Hint:** The model that we will shortly be building here is very similar to the text generation model that we built in the guided project."
   ]
  },
  {
   "cell_type": "markdown",
   "metadata": {},
   "source": [
    "**Answer 1:**\n",
    "\n",
    "Each letter claims its own feature as each word changes its inherent sequence based upon the letters used."
   ]
  },
  {
   "cell_type": "markdown",
   "metadata": {},
   "source": [
    "\n",
    "**Question 2:**\n",
    "\n",
    "Take a look at the print out of `dctk.unique_chars` one more time. Notice that there is a white space. \n",
    "\n",
    "Why is it desirable to have a white space as a possible character to predict?"
   ]
  },
  {
   "cell_type": "markdown",
   "metadata": {},
   "source": [
    "**Answer 2:**\n",
    "\n",
    "If a whitespace is eschewed, the words will just become jumbled together."
   ]
  },
  {
   "cell_type": "markdown",
   "metadata": {},
   "source": [
    "----"
   ]
  },
  {
   "cell_type": "markdown",
   "metadata": {},
   "source": [
    "### Use our data tool to create X and Y splits\n",
    "\n",
    "You'll need the `create_X_and_Y` method for this task. "
   ]
  },
  {
   "cell_type": "code",
   "execution_count": 30,
   "metadata": {},
   "outputs": [],
   "source": [
    "# TODO: provide a walk through of data_cleaning_toolkit with unit tests that check for understanding \n",
    "X, y = dctk.create_X_and_Y()"
   ]
  },
  {
   "cell_type": "markdown",
   "metadata": {},
   "source": [
    "![](https://miro.medium.com/max/891/0*jGB1CGQ9HdeUwlgB)"
   ]
  },
  {
   "cell_type": "code",
   "execution_count": 31,
   "metadata": {},
   "outputs": [
    {
     "data": {
      "text/plain": [
       "(21778, 41, 27)"
      ]
     },
     "execution_count": 31,
     "metadata": {},
     "output_type": "execute_result"
    }
   ],
   "source": [
    "# notice that our input matrix isn't actually a matrix - it's a rank 3 tensor\n",
    "X.shape"
   ]
  },
  {
   "cell_type": "markdown",
   "metadata": {},
   "source": [
    "In $X$.shape we see three numbers (*n1*, *n2*, *n3*). What do these numbers mean?\n",
    "\n",
    "Well, *n1* tells us the number of samples that we have. But what about the other two?"
   ]
  },
  {
   "cell_type": "code",
   "execution_count": 32,
   "metadata": {},
   "outputs": [
    {
     "data": {
      "text/plain": [
       "array([[False, False, False, ..., False, False, False],\n",
       "       [False, False, False, ..., False, False,  True],\n",
       "       [False, False, False, ..., False, False, False],\n",
       "       ...,\n",
       "       [False, False, False, ..., False, False, False],\n",
       "       [False, False, False, ..., False, False, False],\n",
       "       [False, False, False, ..., False, False, False]])"
      ]
     },
     "execution_count": 32,
     "metadata": {},
     "output_type": "execute_result"
    }
   ],
   "source": [
    "# first index returns a signle sample, which we can see is a sequence \n",
    "first_sample_index = 0 \n",
    "X[first_sample_index]"
   ]
  },
  {
   "cell_type": "markdown",
   "metadata": {},
   "source": [
    "Notice that each sequence (i.e. $X[i]$ where $i$ is some index value) is `maxlen` long and has `dctk.n_features` number of features. Let's try to better understand this shape. "
   ]
  },
  {
   "cell_type": "code",
   "execution_count": 33,
   "metadata": {},
   "outputs": [
    {
     "data": {
      "text/plain": [
       "(41, 27)"
      ]
     },
     "execution_count": 33,
     "metadata": {},
     "output_type": "execute_result"
    }
   ],
   "source": [
    "# each sequence is maxlen long and has dctk.n_features number of features\n",
    "X[first_sample_index].shape"
   ]
  },
  {
   "cell_type": "markdown",
   "metadata": {},
   "source": [
    "**Each row corresponds to a character vector** and there are `maxlen` number of character vectors. \n",
    "\n",
    "**Each column corresponds to a unique character** and there are `dctk.n_features` number of features. \n"
   ]
  },
  {
   "cell_type": "code",
   "execution_count": 34,
   "metadata": {},
   "outputs": [
    {
     "data": {
      "text/plain": [
       "array([False, False, False, False, False, False, False, False, False,\n",
       "       False, False, False,  True, False, False, False, False, False,\n",
       "       False, False, False, False, False, False, False, False, False])"
      ]
     },
     "execution_count": 34,
     "metadata": {},
     "output_type": "execute_result"
    }
   ],
   "source": [
    "# let's index for a single character vector \n",
    "first_char_vect_index = 0\n",
    "X[first_sample_index][first_char_vect_index]"
   ]
  },
  {
   "cell_type": "markdown",
   "metadata": {},
   "source": [
    "Notice that there is a single `TRUE` value and all the rest of the values are `FALSE`. \n",
    "\n",
    "This is a one-hot encoding for which character appears at each index within a sequence. Specifically, the cell above is looking at the first character in the sequence.\n",
    "\n",
    "Only a single character can appear as the first character in a sequence, so there will necessarily be a single `TRUE` value and the rest will be `FALSE`. \n",
    "\n",
    "Let's say that `TRUE` appears in the $ith$ index; by  $ith$ index we simply mean some index in the general case. How can we find out which character that actually corresponds to?\n",
    "\n",
    "To answer this question, we need to use the character-to-integer look up dictionaries. "
   ]
  },
  {
   "cell_type": "code",
   "execution_count": 35,
   "metadata": {},
   "outputs": [
    {
     "data": {
      "text/plain": [
       "{0: 'r',\n",
       " 1: 'g',\n",
       " 2: 'y',\n",
       " 3: ' ',\n",
       " 4: 'v',\n",
       " 5: 'f',\n",
       " 6: 'b',\n",
       " 7: 't',\n",
       " 8: 's',\n",
       " 9: 'j',\n",
       " 10: 'm',\n",
       " 11: 'l',\n",
       " 12: 'a',\n",
       " 13: 'z',\n",
       " 14: 'p',\n",
       " 15: 'i',\n",
       " 16: 'w',\n",
       " 17: 'q',\n",
       " 18: 'o',\n",
       " 19: 'u',\n",
       " 20: 'h',\n",
       " 21: 'x',\n",
       " 22: 'd',\n",
       " 23: 'k',\n",
       " 24: 'c',\n",
       " 25: 'e',\n",
       " 26: 'n'}"
      ]
     },
     "execution_count": 35,
     "metadata": {},
     "output_type": "execute_result"
    }
   ],
   "source": [
    "# take a look at the index to character dictionary\n",
    "# if a TRUE appears in the 0th index of a character vector,\n",
    "# then we know that whatever char you see below next to the 0th key \n",
    "# is the character that that character vector is endcoding for\n",
    "dctk.int_char"
   ]
  },
  {
   "cell_type": "code",
   "execution_count": 36,
   "metadata": {},
   "outputs": [
    {
     "name": "stdout",
     "output_type": "stream",
     "text": [
      "a\n",
      "n\n",
      "d\n",
      " \n",
      "s\n",
      "o\n",
      " \n",
      "o\n",
      "f\n",
      " \n",
      "y\n",
      "o\n",
      "u\n",
      " \n",
      "b\n",
      "e\n",
      "a\n",
      "u\n",
      "t\n",
      "e\n",
      "o\n",
      "u\n",
      "s\n",
      " \n",
      "a\n",
      "n\n",
      "d\n",
      " \n",
      "l\n",
      "o\n",
      "v\n",
      "e\n",
      "l\n",
      "y\n",
      " \n",
      "y\n",
      "o\n",
      "u\n",
      "t\n",
      "h\n",
      " \n",
      "Sequence length: 41\n"
     ]
    }
   ],
   "source": [
    "# let's look at an example to tie it all together\n",
    "\n",
    "seq_len_counter = 0\n",
    "\n",
    "# index for a single sample \n",
    "for seq_of_char_vects in X[first_sample_index]:\n",
    "    \n",
    "    # get index with max value, which will be the one TRUE value \n",
    "    index_with_TRUE_val = np.argmax(seq_of_char_vects)\n",
    "    \n",
    "    print (dctk.int_char[index_with_TRUE_val])\n",
    "    \n",
    "    seq_len_counter+=1\n",
    "    \n",
    "print (\"Sequence length: {}\".format(seq_len_counter))"
   ]
  },
  {
   "cell_type": "markdown",
   "metadata": {},
   "source": [
    "## Time for Questions \n",
    "\n",
    "----\n",
    "**Question 1:** \n",
    "\n",
    "In your own words, how would you describe the numbers from the shape print out of `X.shape` to a fellow classmate?\n"
   ]
  },
  {
   "cell_type": "code",
   "execution_count": 37,
   "metadata": {},
   "outputs": [
    {
     "data": {
      "text/plain": [
       "(21778, 41, 27)"
      ]
     },
     "execution_count": 37,
     "metadata": {},
     "output_type": "execute_result"
    }
   ],
   "source": [
    "X.shape"
   ]
  },
  {
   "cell_type": "markdown",
   "metadata": {},
   "source": [
    "**Answer 1:**\n",
    "\n",
    "The first number is a binary classification of sequences; the second describes the words we have in each line; the third number describes the possible characters within each word."
   ]
  },
  {
   "cell_type": "markdown",
   "metadata": {},
   "source": [
    "----\n"
   ]
  },
  {
   "cell_type": "markdown",
   "metadata": {},
   "source": [
    "### Build a Text Generation model\n",
    "\n",
    "Now that we have prepped our data (and understood that process) let's finally build out our character generation model, similar to what we did in the guided project."
   ]
  },
  {
   "cell_type": "code",
   "execution_count": 38,
   "metadata": {},
   "outputs": [],
   "source": [
    "def sample(preds, temperature=1.0):\n",
    "    \"\"\"\n",
    "    Helper function to sample an index from a probability array\n",
    "    \"\"\"\n",
    "    # convert preds to array \n",
    "    preds = np.asarray(preds).astype('float64')\n",
    "    # scale values \n",
    "    preds = np.log(preds) / temperature\n",
    "    # exponentiate values\n",
    "    exp_preds = np.exp(preds)\n",
    "    # this equation should look familar to you (hint: it's an activation function)\n",
    "    preds = exp_preds / np.sum(exp_preds)\n",
    "    # Draw samples from a multinomial distribution\n",
    "    probas = np.random.multinomial(1, preds, 1)\n",
    "    # return the index that corresponds to the max probability \n",
    "    return np.argmax(probas)\n",
    "\n",
    "def on_epoch_end(epoch, _):\n",
    "    \"\"\"\"\n",
    "    Function invoked at end of each epoch. Prints the text generated by our model.\n",
    "    \"\"\"\n",
    "    \n",
    "    print()\n",
    "    print('----- Generating text after Epoch: %d' % epoch)\n",
    "    \n",
    "\n",
    "    # randomly pick a starting index \n",
    "    # will be used to take a random sequence of chars from `text`\n",
    "    start_index = random.randint(0, len(text) - dctk.maxlen - 1)\n",
    "    \n",
    "    # this is our seed string (i.e. input seqeunce into the model)\n",
    "    generated = ''\n",
    "\n",
    "    # start the sentence at index `start_index` and include the next` dctk.maxlen` number of chars\n",
    "    sentence = text[start_index: start_index + dctk.maxlen]\n",
    "\n",
    "    # add to generated\n",
    "    generated += sentence\n",
    "\n",
    "    \n",
    "    print('----- Generating with seed: \"' + sentence + '\"')\n",
    "    sys.stdout.write(generated)\n",
    "    \n",
    "    # use model to predict what the next 40 chars should be that follow the seed string\n",
    "    for i in range(40):\n",
    "\n",
    "        # shape of a single sample in a rank 3 tensor \n",
    "        x_dims = (1, dctk.maxlen, dctk.n_features)\n",
    "        # create an array of zeros with shape x_dims\n",
    "        # recall that python considers zeros and boolean FALSE as the same\n",
    "        x_pred = np.zeros(x_dims)\n",
    "\n",
    "        # create a seq vector for our randomly select sequence \n",
    "        # i.e. create a numerical encoding for each char in the sequence \n",
    "        for t, char in enumerate(sentence):\n",
    "            # for sample 0 in seq index t and character `char` encode a 1 (which is the same as a TRUE)\n",
    "            x_pred[0, t, dctk.char_int[char]] = 1\n",
    "\n",
    "        # next, take the seq vector and pass into model to get a prediction of what the next char should be \n",
    "        preds = model.predict(x_pred, verbose=0)[0]\n",
    "        # use the sample helper function to get index for next char \n",
    "        next_index = sample(preds)\n",
    "        # use look up dict to get next char \n",
    "        next_char = dctk.int_char[next_index]\n",
    "\n",
    "        # append next char to sequence \n",
    "        sentence = sentence[1:] + next_char \n",
    "        \n",
    "        sys.stdout.write(next_char)\n",
    "        sys.stdout.flush()\n",
    "    print()"
   ]
  },
  {
   "cell_type": "code",
   "execution_count": 39,
   "metadata": {},
   "outputs": [],
   "source": [
    "# need this for on_epoch_end()\n",
    "text = \" \".join(clean_sonnets)"
   ]
  },
  {
   "cell_type": "code",
   "execution_count": 40,
   "metadata": {},
   "outputs": [],
   "source": [
    "# create callback object that will print out text generation at the end of each epoch \n",
    "# use for real-time monitoring of model performance\n",
    "print_callback = LambdaCallback(on_epoch_end=on_epoch_end)"
   ]
  },
  {
   "cell_type": "markdown",
   "metadata": {},
   "source": [
    "----\n",
    "### Train Model\n",
    "\n",
    "Build a text generation model using LSTMs. Feel free to reference the model used in the guided project. \n",
    "\n",
    "It is recommended that you train this model to at least 50 epochs (but more if you're computer can handle it). \n",
    "\n",
    "You are free to change up the architecture as you wish. \n",
    "\n",
    "Just in case you have difficultly training a model, there is a pre-trained model saved to a file called `trained_text_gen_model.h5` that you can load in (the same way that you learned how to load in Keras models in Sprint 2 Module 4). "
   ]
  },
  {
   "cell_type": "code",
   "execution_count": 41,
   "metadata": {
    "deletable": false,
    "nbgrader": {
     "cell_type": "code",
     "checksum": "e17312b57e17284124ce562dff81b00d",
     "grade": false,
     "grade_id": "cell-f34be90367fd9071",
     "locked": false,
     "schema_version": 3,
     "solution": true,
     "task": false
    }
   },
   "outputs": [
    {
     "name": "stdout",
     "output_type": "stream",
     "text": [
      "Epoch 1/15\n",
      "681/681 [==============================] - 144s 204ms/step - loss: 2.8459 - accuracy: 0.1943\n",
      "Epoch 2/15\n",
      "681/681 [==============================] - 141s 206ms/step - loss: 2.3681 - accuracy: 0.3179\n",
      "Epoch 3/15\n",
      "681/681 [==============================] - 133s 196ms/step - loss: 2.2267 - accuracy: 0.3508\n",
      "Epoch 4/15\n",
      "681/681 [==============================] - 137s 201ms/step - loss: 2.1287 - accuracy: 0.3703\n",
      "Epoch 5/15\n",
      "681/681 [==============================] - 135s 198ms/step - loss: 2.0522 - accuracy: 0.3934\n",
      "Epoch 6/15\n",
      "681/681 [==============================] - 132s 194ms/step - loss: 1.9838 - accuracy: 0.4072\n",
      "Epoch 7/15\n",
      "681/681 [==============================] - 136s 199ms/step - loss: 1.9209 - accuracy: 0.4295\n",
      "Epoch 8/15\n",
      "681/681 [==============================] - 136s 199ms/step - loss: 1.8558 - accuracy: 0.4410\n",
      "Epoch 9/15\n",
      "681/681 [==============================] - 133s 196ms/step - loss: 1.8170 - accuracy: 0.4491\n",
      "Epoch 10/15\n",
      "681/681 [==============================] - 139s 204ms/step - loss: 1.7538 - accuracy: 0.4634\n",
      "Epoch 11/15\n",
      "681/681 [==============================] - 136s 199ms/step - loss: 1.7144 - accuracy: 0.4796\n",
      "Epoch 12/15\n",
      "681/681 [==============================] - 136s 199ms/step - loss: 1.6662 - accuracy: 0.4909\n",
      "Epoch 13/15\n",
      "681/681 [==============================] - 135s 198ms/step - loss: 1.6439 - accuracy: 0.4956\n",
      "Epoch 14/15\n",
      "681/681 [==============================] - 135s 198ms/step - loss: 1.5876 - accuracy: 0.5172\n",
      "Epoch 15/15\n",
      "681/681 [==============================] - 129s 190ms/step - loss: 1.5463 - accuracy: 0.5227\n"
     ]
    },
    {
     "data": {
      "text/plain": [
       "<tensorflow.python.keras.callbacks.History at 0x7f276ddf8550>"
      ]
     },
     "execution_count": 41,
     "metadata": {},
     "output_type": "execute_result"
    }
   ],
   "source": [
    "from tensorflow.keras.layers import Dropout\n",
    "\n",
    "# build text generation model layer by layer \n",
    "# fit model\n",
    "\n",
    "n_features = 27\n",
    "maxlen = 41\n",
    "\n",
    "lstm = Sequential()\n",
    "lstm.add(LSTM(128, input_shape=(maxlen, n_features)))\n",
    "lstm.add(Dropout(0.2))\n",
    "lstm.add(Dense(27, activation=\"softmax\"))\n",
    "\n",
    "lstm.compile(\n",
    "    loss=\"categorical_crossentropy\",\n",
    "    optimizer=\"adam\",\n",
    "    metrics=[\"accuracy\"]\n",
    ")\n",
    "\n",
    "lstm.fit(\n",
    "    X, y, batch_size=32,\n",
    "    epochs=15\n",
    ")"
   ]
  },
  {
   "cell_type": "code",
   "execution_count": 42,
   "metadata": {},
   "outputs": [],
   "source": [
    "# save trained model to file \n",
    "lstm.save(\"trained_text_gen_model.h5\")"
   ]
  },
  {
   "cell_type": "markdown",
   "metadata": {},
   "source": [
    "### Let's play with our trained model \n",
    "\n",
    "Now that we have a trained model that, though far from perfect, is able to generate actual English words, we can take a look at the predictions to continue to learn more about how a text generation model works. \n",
    "\n",
    "We can also take this as an opportunity to unpack the `def on_epoch_end` function to better understand how it works. "
   ]
  },
  {
   "cell_type": "code",
   "execution_count": 43,
   "metadata": {},
   "outputs": [
    {
     "data": {
      "text/plain": [
       "'and so of you beauteous and lovely youth no more be grievd at that which thou hast done who moving others are themselves as stone o let me suffer being at your beck but you like none none you for constant heart to show false art what beauty was of yore spendst thou thy fury on some worthless song  eif an individual project gutenbergtm electronic work is posted some in their garments though newfangled ill nor think the bitterness of absence sour the guilty goddess of my harmful deeds  cthe project gutenberg literary archive foundation the foundation who with his fear is put beside his part whateer thy thoughts or thy hearts workings be cxi civ of bird of flower or shape which it doth latch not making worse what nature made so clear which hath not figurd to thee my true spirit mine eye my heart thy pictures sight would bar and yet thou wilt for i being pent in thee when other petty griefs have done their spite o know sweet love i always write of you but why thy odour matcheth not thy show thy youths proud livery so gazed on now is it thy will thy image should keep open and under thee their poesy disperse and heavy ignorance aloft to fly doth teach that ease and that repose to say  with the phrase project gutenberg associated with or appearing on the loving offenders thus i will excuse ye as thou being mine mine is thy good report and moan the expense of many a vanishd sight  updated editions will replace the previous onethe old editions or else receivst with pleasure thine annoy who lets so fair a house fall to decay o thou my lovely boy who in thy power this wish i have then ten times happy me but heaven in thy creation did decree and by their verdict is determined  work you must comply either with the requirements of paragraphs e  terms of this agreement you may obtain a refund from the person or the basest jewel will be well esteemd  hart the owner of the project gutenbergtm trademarkcontact the this thou perceivst which makes thy love more strong so till the judgment that yourself arise no neither he nor his compeers by night you to your beauteous blessings add a curse who hast by waning grown and therein showst and there reigns love and all loves loving parts and shalt by fortune once more resurvey to hear with eyes belongs to loves fine wit makes summers welcome thrice more wished more rare and by addition me of thee defeated and chide thy beauty and thy straying youth and will thy soul knows is admitted there bare ruind choirs where late the sweet birds sang and to this false plague are they now transferrd and having climbd the steepup heavenly hill when you have bid your servant once adieu sweet love renew thy force be it not said to give full growth to that which still doth grow  defect in this electronic work withindays of receiving it you can i am to wait though waiting so be hell ix and i will comment upon that offence if it be poisond tis the lesser sin then give me welcome next my heaven the best my heart doth plead that thou in him dost lie so far from variation or quick change  rules is very easyyou may use this ebook for nearly any purpose when hours have draind his blood and filld his brow since from thee going he went wilfulslow both truth and beauty on my love depends  that arise directly or indirectly from any of the following which you do be absent from thy walks and in my tongue and nothing gainst times scythe can make defence some say thy fault is youth some wantonness must be paid withindays following each date on which you my love looks fresh and death to me subscribes if there be nothing new but that which is  your written explanationthe person or entity that provided you with to find where your true image picturd lies the hand that writ it for i love you so my thoughts and my discourse as madmens are so oft have i invoked thee for my muse in faith i do not love thee with mine eyes that on the ashes of his youth doth lie so shall those blots that do with me remain but if thou catch thy hope turn back to me love is too young to know what conscience is o what excuse will my poor beast then find for why should others false adulterate eyes and wherefore say not i that i am old which parts the shore where two contracted new and so the general of hot desire project gutenberg literary archive foundationroyalty payments  practically anything with public domain ebooksredistribution is speak of the spring and foison of the year and tender churl makst waste in niggarding my love is strengthend though more weak in seeming the teeming autumn big with rich increase and make the earth devour her own sweet brood but the defendant doth that plea deny and time that gave doth now his gift confound for thou art covetous and he is kind to thy fair flower add the rank smell of weeds one on anothers neck do witness bear knowing a better spirit doth use your name give not a windy night a rainy morrow askance and strangely but by all above and for that sorrow which i then did feel sometime too hot the eye of heaven shines return of love more blest may be the view sings this to thee thou single wilt prove none my life hath in this line some interest creep in twixt vows and change decrees of kings upon thy part i can set down a story even that your pity is enough to cure me but i forbid thee one most heinous crime crowning the present doubting of the rest thy edge should blunter be than appetite your love and pity doth the impression fill how oft when thou my music music playst be it lawful i love thee as thou lovst those and death once dead theres no more dying then for nimble thought can jump both sea and land and only herald to the gaudy spring and what ist but mine own when i praise thee what merit lived in me that you should love so you oergreen my bad my good allow those that can see thou lovst and i am blind xxxix is writ in moods and frowns and wrinkles strange profitless usurer why dost thou use and all the rest forgot for which he toild robbing no old to dress his beauty new had having and in quest to have extreme that in my mind thy worst all best exceeds thy looks should nothing thence but sweetness tell  compressed marked up nonproprietary or proprietary form including any makes black night beauteous and her old face new forgot upon your dearest love to call towards thee ill run and give him leave to go which eyes not yet created shall oerread and he that calls on thee let him bring forth for where is she so fair whose uneard womb and beauty making beautiful old rime for if you were by my unkindness shaken end of this project gutenberg ebook shakespeares sonnets   electronic works in formats readable by the widest variety of computers liv whoeer keeps me let my heart be his guard to thee i send this written embassage  incidental damages even if you give notice of the possibility of such o that record could with a backward look not marble nor the gilded monuments nor gives to necessary wrinkles place which i new pay as if not paid before  array of equipment including outdated equipmentmany small donations can yet the lease of my true love control making no summer of anothers green  terms imposed by the copyright holderadditional terms will be linked and strength by limping sway disabled the injuries that to myself i do all tonguesthe voice of soulsgive thee that due and precious phrase by all the muses fild with my extern the outward honouring so i for fear of trust forget to say that do not do the thing they most do show and constant stars in them i read such art to leap large lengths of miles when thou art gone in others works thou dost but mend the style my mistress when she walks treads on the ground for they in thee a thousand errors note doth homage to his newappearing sight not by our feeling but by others seeing to one of one still such and ever so  professor michael s hart was the originator of the project gutenbergtm  dthe copyright laws of the place where you are located also govern will be a tatterd weed of small worth held within the gentle closure of my breast so all my best is dressing old words new to bear loves wrong than hates known injury and my hearts right thy inward love of heart when every private widow well may keep you already use to calculate your applicable taxesthe fee is while thou dost breathe that pourst into my verse from me far off with others all too near for i have sworn deep oaths of thy deep kindness when swift extremity can seem but slow and steel dead seeming of his living hue and every humour hath his adjunct pleasure in sleep a king but waking no such matter cii of receipt of the work  the copyright status of any work in any country outside the united and trouble deaf heaven with my bootless cries shall times best jewel from times chest lie hid not that the summer is less pleasant now weeds among weeds or flowers with flowers gatherd which from loves fire took heat perpetual and thou in this shalt find thy monument for thou not farther than my thoughts canst move to this composed wonder of your frame to what it works in like the dyers hand thy registers and thee i both defy cix like as the waves make towards the pebbled shore  eunless you have removed all references to project gutenberg as after sunset fadeth in the west or call it winter which being full of care when wasteful war shall statues overturn ay me but yet thou mightst my seat forbear i will not praise that purpose not to sell and my sick muse doth give an other place o truant muse what shall be thy amends upon thy self thy beautys legacy showing their birth and where they did proceed which should transport me farthest from your sight  must comply with both paragraphs e through e and any additional and to his palate doth prepare the cup lxxiii and live no more to shame nor me nor you xxiii that mine eye loves it and doth first begin the bounteous largess given thee to give it fears not policy that heretic which proves more short than waste or ruining though in thy stores account i one must be and delves the parallels in beautys brow doubting the filching age will steal his treasure to what you will to you it doth belong thine eyes i love and they as pitying me lviii cxliv  states that i an accessary needs must be  refundif you received the work electronically the person or entity  ways including checks online payments and credit card donations no news but health from their physicians know  c educational corporation organized under the laws of the and nights bright days when dreams do show thee me that i in your sweet thoughts would be forgot in praise of ladies dead and lovely knights  creating the works from public domain print editions means that no cxxiii the eyes fore duteous now converted are the statute of thy beauty thou wilt take save thou my rose in it thou art my all came there for cure and this by that i prove receiving nought by elements so slow iii the use of project gutenbergtm works calculated using the method  produced by joseph s miller and embryriddle aeronautical  have not met the solicitation requirements we know of no prohibition the ornament of beauty is suspect which erst from heat did canopy the herd nor my beloved as an idol show save where you are how happy you make those  do not charge anything for copies of this ebook complying with the when others would give life and bring a tomb  fsome states do not allow disclaimers of certain implied where all the treasure of thy lusty days in all external grace you have some part though absence seemd my flame to qualify he lends thee virtue and he stole that word how many lambs might the stern wolf betray but now my gracious numbers are decayd how can i then return in happy plight when i have seen the hungry ocean gain or if they have where is my judgment fled and thou presentst a pure unstained prime or some fierce thing replete with too much rage but when your countenance filld up his line as i by yours youve passd a hell of time returnsroyalty payments should be clearly marked as such and  while we cannot and do not solicit contributions from states where we show me your image in some antique book when thou shalt be disposd to set me light you had a father let your son say so be scornd like old men of less truth than tongue why should my heart think that a several plot the very part was consecrate to thee made more or less by thy continual haste lxxxviii  gutenberg literary archive foundation was created to provide a secure how would i say mine eyes be blessed made when thou reviewest this thou dost review thou hast passed by the ambush of young days yet what the best is take the worst to be of more delight than hawks and horses be so thou through windows of thine age shalt see nor mars his sword nor wars quick fire shall burn cxvi how to divide the conquest of thy sight shall profit thee and much enrich thy book but those same tongues that give thee so thine own ruin hath taught me thus to ruminate xviii these vacant leaves thy minds imprint will bear unless my nerves were brass or hammerd steel project gutenbergtm works that censures falsely what they see aright nay if you read this line remember not oaths of thy love thy truth thy constancy till nature as she wrought thee fell adoting none else to me nor i to none alive who all in one one pleasing note do sing my sweet loves beauty though my lovers life o cunning love with tears thou keepst me blind unlookd on diest unless thou get a son if hairs be wires black wires grow on her head and whether that my angel be turnd fiend they are but dressings of a former sight take all my loves my love yea take them all my sinful earth these rebel powers array why dost thou pine within and suffer dearth her audit though delayed answered must be have from the forests shook three summers pride was it his spirit by spirits taught to write and arts with thy sweet graces graced be mine be thy love and thy loves use their treasure in other accents do this praise confound let them say more that like of hearsay well and by a part of all thy glory live that in the very refuse of thy deeds her pretty looks have been mine enemies for all my vows are oaths but to misuse thee shall you pace forth your praise shall still find room li and purest faith unhappily forsworn loves not times fool though rosy lips and cheeks love is my sin and thy dear virtue hate o let me true in love but truly write those lips that loves own hand did make you live in this and dwell in lovers eyes who lead thee in their riot even there  electronic works if ten of thine ten times refigurd thee unlookd for joy in that i honour most may still seem love to me though alterd new she keeps thee to this purpose that her skill  edo not charge a fee for access to viewing displaying shall sum my count and make my old excuse wwwgutenbergorglicense  against accepting unsolicited donations from donors in such states who and broils root out the work of masonry for since each hand hath put on natures power they do but sweetly chide thee who confounds thy self thou gavst thy own worth then not knowing when i perhaps compounded am with clay but thou contracted to thine own bright eyes in our two loves there is but one respect  even without complying with the full terms of this agreementsee dulling my lines and doing me disgrace and yet love knows it is a greater grief that it nor grows with heat nor drowns with showers and lace itself with his society o no it is an everfixed mark  people in all walks of life then let not winters ragged hand deface if eyes corrupt by overpartial looks does not agree to the terms of the full project gutenbergtm of his quick objects hath the mind no part nor thou with public kindness honour me  computer virus or computer codes that damage or cannot be read by a god in love to whom i am confind some fresher stamp of the timebettering days xliv why write i still all one ever the same but is profand if not lives in disgrace and so my patent back again is swerving and play the mothers part kiss me be kind if like a lamb he could his looks translate  considerable effort much paperwork and many fees to meet and keep up  providing copies of project gutenbergtm electronic works in accordance ay fill it full with wills and my will one when in the chronicle of wasted time doth half that glory to the sober west all this away and me most wretchcd make and prove thee virtuous though thou art forsworn  project gutenbergtm work and c any defect you cause  this web site includes information about project gutenbergtm lv suffering my friend for my sake to approve her when what i seek my weary travels end and the sad augurs mock their own presage  provided in paragraph fyou agree that the foundation the this thought is as a death which cannot choose thine own sweet argument too excellent yet this abundant issue seemd to me  almost no restrictions whatsoeveryou may copy it give it away or the owners tongue doth publish every where o but with mine compare thou thine own state the sad account of forebemoaned moan for it no form delivers to the heart xxx when lofty trees i see barren of leaves in pursuit of the thing she would have stay so i return rebukd to my content and like unlettered clerk still cry amen  whenever any copy of a project gutenbergtm work any work on which the wwwgutenbergorg nor gates of steel so strong but time decays and thou shalt find it merits not reproving the richproud cost of outworn buried age who heaven itself for ornament doth use so true a fool is love that in your will they know what beauty is see where it lies  the laws of your country in addition to the terms of this agreement which bounteous gift thou shouldst in bounty cherish what potions have i drunk of siren tears a dateless lively heat still to endure so do our minutes hasten to their end distribution of project gutenbergtm works being fond on praise which makes your praises worse he learnd but suretylike to write for me to make him seem long hence as he shows now fair kind and true varying to other words with virtuous wish would bear you living flowers nor shall death brag thou wanderst in his shade and situation with those dancing chips hath travelld on to ages steepy night for beautys pattern to succeeding men what strained touches rhetoric can lend tired with all these for restful death i cry needs must i under my transgression bow die single and thine image dies with thee swear to thy blind soul that i was thy will xcv and gainst myself a lawful plea commence or state itself confounded to decay for thy records and what we see doth lie whats in the brain that ink may character as to prevent our maladies unseen that i have hoisted sail to all the winds thy lovers withering as thy sweet self growst since every one hath every one one shade o never say that i was false of heart breathed forth the sound that said i hate thou mayst call thine when thou from youth convertest  editions all of which are confirmed as public domain in the us but hope of orphans and unfatherd fruit and that unfair which fairly doth excel with sun and moon with earth and seas rich gems while shadows like to thee do mock my sight drink up the monarchs plague this flattery and this my hand against my self uprear so i made lame by fortunes dearest spite i do forgive thy robbery gentle thief some in their wealth some in their bodys force desire is death which physic did except  or chargesif you are redistributing or providing access to a work if thou wouldst use the strength of all thy state and being frank she lends to those are free the worser spirit a woman colourd ill then betterd that the world may see my pleasure alas why fearing of times tyranny for such a time do i now fortify  phrase project gutenberg appears or with which the phrase project till then not show my head where thou mayst prove me  by william shakespeare still constant in a wondrous excellence it is the star to every wandering bark it might for fortunes bastard be unfatherd in him those holy antique hours are seen such heavenly touches neer touchd earthly faces ere beautys dead fleece made another gay and franticmad with evermore unrest  written explanation to the person you received the work fromif you xiii dr gregory b newby so far from home into my deeds to pry for thou art so possessd with murderous hate when rocks impregnable are not so stout tomorrow sharpened in his former might laid by his side his heartinflaming brand harsh featureless and rude barrenly perish these poor rude lines of thy deceased lover ah if thou issueless shalt hap to die when i do count the clock that tells the time nor his own vision holds what it doth catch and simple truth miscalld simplicity that heavens air in this huge rondure hems  from the public domain does not contain a notice indicating that it is on whom frownst thou that i do fawn upon  distribution of electronic works by using or distributing this work then soul live thou upon thy servants loss  with anyonefor forty years he produced and distributed project without all ornament itself and true than unswept stone besmeard with sluttish time ist not enough to torture me alone  protect the project gutenbergtm concept and trademarkproject then of thy beauty do i question make the beast that bears me tired with my woe that thereby beautys rose might never die  spread public support and donations to carry out its mission of lxi one will of mine to make thy large will more  public domain works in creating the project gutenbergtm increasing store with loss and loss with store lest my bewailed guilt should do thee shame where time and outward form would show it dead lxxiv who is it that says most which can say more money paid for a work or a replacement copy if a defect in the has agreed to donate royalties under this paragraph to the  individual work is in the public domain in the united states and you are  goals and ensuring that the project gutenbergtm collection will and that is this and this with thee remains then will i swear beauty herself is black or mine eyes seeing this say this is not what is your substance whereof are you made cxv if the dull substance of my flesh were thought when all the breathers of this world are dead sometime all full with feasting on your sight nothing sweet boy but yet like prayers divine which steals mens eyes and womens souls amazeth  and the foundation information page at wwwgutenbergorg  or pglaf owns a compilation copyright in the collection of project in manys looks the false hearts history but why of two oaths breach do i accuse thee to any sensual feast with thee alone and with old woes new wail my dear times waste even those that said i could not love you dearer thou that art now the worlds fresh ornament and in the praise thereof spends all his might intend a zealous pilgrimage to thee whoever hath her wish thou hast thy will then if for my love thou my love receivest or from their proud lap pluck them where they grew find no determination then you were lxxii of hand of foot of lip of eye of brow savage extreme rude cruel not to trust as thou goest onwards still will pluck thee back for whether beauty birth or wealth or wit since saucy jacks so happy are in this him have i lost thou hast both him and me rise resty muse my loves sweet face survey of their fair subject blessing every book above a mortal pitch that struck me dead for precious friends hid in deaths dateless night my most full flame should afterwards burn clearer on helens cheek all art of beauty set i see their antique pen would have expressd o tis the first tis flattery in my seeing not prizing her poor infants discontent then were not summers distillation left and given to time your own dearpurchasd right  send donations or determine the status of compliance for any which by and by black night doth take away cxxviii and in my will no fair acceptance shine which in my bosoms shop is hanging still describe adonis and the counterfeit but if the while i think on thee dear friend since sweets and beauties do themselves forsake xxvi  sectioninformation about the project gutenberg literary archive cxviii  edo not copy display perform distribute or redistribute this lxvi to mourn for me since mourning doth thee grace and other strains of woe which now seem woe thou makst faults graces that to thee resort hearing you praised i say tis so tis true my reason the physician to my love when forty winters shall besiege thy brow if from thyself to store thou wouldst convert cxxxix and threescore year would make the world away cxii three themes in one which wondrous scope affords for then despite of space i would be brought  work b alteration modification or additions or deletions to any that sometimes anger thrusts into his hide lx cxlvii lxxxi  end of project gutenbergs shakespeares sonnets by william shakespeare xix and gilded honour shamefully misplacd on newer proof to try an older friend kill me outright with looks and rid my pain but day by night and night by day oppressd that you yourself may privilage your time and grew a seeting bath which yet men prove straight in her heart did mercy come if thou couldst answer this fair child of mine which rank of goodness would by ill be curd  unless a copyright notice is includedthus we do not necessarily yet fear her o thou minion of her pleasure full many a glorious morning have i seen  workssee paragraph e below of their sweet deaths are sweetest odours made feeding on that which doth preserve the ill this told i joy but then no longer glad  sectioninformation about donations to the project gutenberg to the wide world and all her fading sweets how would thy shadows form form happy show if this be error and upon me provd though not to love yet love to tell me so each trifle under truest bars to thrust cxxvi cviii the charter of thy worth gives thee releasing than think that we before have heard them told have put on black and loving mourners be i will be true despite thy scythe and thee what old decembers bareness everywhere and ruind love when it is built anew the offenders sorrow lends but weak relief  gutenberg is a registered trademark and may not be used if you self so selfloving were iniquity o none but unthrifts dear my love you know for i am shamed by that which i bring forth the earth can yield me but a common grave you in writing or by email withindays of receipt that she natures bequest gives nothing but doth lend therefore my mistress eyes are raven black and life no longer than thy love will stay xxi  gutenberg is associated is accessed displayed performed viewed from hands of falsehood in sure wards of trust as testy sick men when their deaths be near so is the time that keeps you as my chest take heed dear heart of this large privilege thy outward thus with outward praise is crownd that due of many now is thine alone gilding pale streams with heavenly alchemy and therefore art enforced to seek anew come daily to the banks that when they see thou wilt restore to be my comfort still i cannot blame thee for my love thou usest hence thou suborned informer a true soul and in some perfumes is there more delight more than enough am i that vexd thee still but beautys waste hath in the world an end  to protect the project gutenbergtm mission of promoting the free and keep invention in a noted weed and for this sin there is no remedy nor dare i chide the worldwithoutend hour but he that writes of you if he can tell in singleness the parts that thou shouldst bear to know my shames and praises from your tongue so great a sum of sums yet canst not live applying fears to hopes and hopes to fears cxxxi  with the permission of the copyright holder your use and distribution  trademark owner any agent or employee of the foundation anyone since all alike my songs and praises be thy pyramids built up with newer might whom thine eyes woo as mine importune thee thou art as fair in knowledge as in hue yet be most proud of that which i compile then in the blazon of sweet beautys best and that fresh blood which youngly thou bestowst and see the brave day sunk in hideous night how many gazers mightst thou lead away past reason hated as a swallowd bait if some suspect of ill maskd not thy show cvi with lines and wrinkles when his youthful morn tird with all these from these would i be gone if i might teach thee wit better it were and all my honest faith in thee is lost when i behold the violet past prime to make of monsters and things indigest is poorly imitated after you by new unfolding his imprisond pride thy worth the greater being wood of time the mountain or the sea the day or night but heres the joy my friend and i are one that is my home of love if i have rangd can make you live your self in eyes of men by their rank thoughts my deeds must not be shown  charities and charitable donations in allstates of the united naming thy name blesses an ill report thy sweet beloved name no more shall dwell therefore are feasts so solemn and so rare thou canst not vex me with inconstant mind then can i grieve at grievances foregone then being asked where all thy beauty lies in loving thee thou knowst i am forsworn that you for love speak well of me untrue the worth of that is that which it contains now see what good turns eyes for eyes have done are vanishing or vanished out of sight then can i drown an eye unused to flow pointing to each his thunder rain and wind as soon as think the place where he would be but sweet or colour it had stoln from thee you provide a full refund of any money paid by a user who notifies as i all other in all worths surmount i may not evermore acknowledge thee than public means which public manners breeds  if you paid a fee for obtaining a copy of or access to a project and in my madness might speak ill of thee and buds of marjoram had stoln thy hair that music hath a far more pleasing sound in whose confine immured is the store to thy sweet will making addition thus in the old age black was not counted fair those hours that with gentle work did frame when you entombed in mens eyes shall lie thus far the miles are measured from thy friend and summers lease hath all too short a date for i must neer love him whom thou dost hate since my appeal says i did strive to prove as interest of the dead which now appear making a couplement of proud compare which heavily he answers with a groan whilst he upon your soundless deep doth ride past reason hunted and no sooner had  project gutenbergtm ebooks are often created from several printed what means the world to say it is not so gainst death and alloblivious enmity the ills that were not grew to faults assurd and summers green all girded up in sheaves thou dost beguile the world unbless some mother in me thou seest the glowing of such fire till whatsoever star that guides my moving  redistribution xxxii o then vouchsafe me but this loving thought cxlviii nor dare i question with my jealous thought when i against myself with thee partake lxxx strikes each in each by mutual ordering me from myself thy cruel eye hath taken  providing it to you may choose to give you a second opportunity to or at the least so long as brain and heart exceeded by the height of happier men and i by this will be a gainer too as to behold desert a beggar born loves fire heats water water cools not love but whats so blessedfair that fears no blot for all the day they view things unrespected which for their habitation chose out thee if it be not then love doth well denote when days oppression is not easd by night or laid great bases for eternity you should live twicein it and in my rhyme mine ransoms yours and yours must ransom me  gutenbergtm mission of promoting free access to electronic works by that god forbid that made me first your slave  and distributed to anyone in the united states without paying any fees some in their hawks and hounds some in their horse why so large cost having so short a lease happy to have thy love happy to die incapable of more replete with you lifts up his burning head each under eye why should he live now nature bankrupt is since first i saw you fresh which yet are green my life being made of four with two alone by chance or natures changing course untrimmd the fairest votary took up that fire each changing place with that which goes before  project gutenbergtm trademark as set forth in paragraphs e or xl how have mine eyes out of their spheres been fitted are both with thee wherever i abide but thy eternal summer shall not fade the mortal moon hath her eclipse endurd so him i lose through my unkind abuse possessing or pursuing no delight whilst her neglected child holds her in chase  works and the medium on which they may be stored may contain before these bastard signs of fair were born o fearful meditation where alack when all my best doth worship thy defect that you are you so dignifies his story tis not enough that through the cloud thou break for shame deny that thou bearst love to any and therefore from my face she turns my foes  posted with permission of the copyright holder the work can be copied when in eternal lines to time thou growst but things removd that hidden in thee lie that barren tender of a poets debt thus vainly thinking that she thinks me young a bliss in proof and provd a very woe o lest your true love may seem false in this  gutenbergtm electronic work under this agreement disclaim all whence hast thou this becoming of things ill as twixt a miser and his wealth is found with shifting change as is false womens fashion yet this shall i neer know but live in doubt as tender nurse her babe from faring ill no longer yours than you your self here live not from the stars do i my judgement pluck bearing the wanton burden of the prime when i am sometime absent from thy heart love is a babe then might i not say so to weigh how once i sufferd in your crime shifts but his place for still the world enjoys it for that deep wound it gives my friend and me for to no other pass my verses tend in sequent toil all forwards do contend be not selfwilld for thou art much too fair no it was builded far from accident on purpose laid to make the taker mad duty so great which wit so poor as mine i found or thought i found you did exceed and that your love taught it this alchemy or you survive when i in earth am rotten that she hath thee is of my wailing chief and nothing stands but for his scythe to mow  located in the united states we do not claim a right to prevent you from of thee thy record never can be missd for all that beauty that doth cover thee were it not thy sour leisure gave sweet leave weret aught to me i bore the canopy for it depends upon that love of thine or what strong hand can hold his swift foot back  freely distributed in machine readable form accessible by the widest like widowd wombs after their lords decease whilst that this shadow doth such substance give nor services to do till you require to love that well which thou must leave ere long with aprils firstborn flowers and all things rare that to my use it might unused stay make but my name thy love and love that still shall reasons find of settled gravity may make seem bare in wanting words to show it  statescompliance requirements are not uniform and it takes a   to work my mind when bodys works expired in thee thy summer ere thou be distilld for that same groan doth put this in my mind buy terms divine in selling hours of dross but tis my heart that loves what they despise that heals the wound and cures not the disgrace she may detain but not still keep her treasure  access to or distributing project gutenbergtm electronic works provided at the woods boldness by thee blushing stand and in mine own loves strength seem to decay cxxxiv drawn after you you pattern of all those  works based on the work as long as all references to project gutenberg stealing away the treasure of his spring so are you to my thoughts as food to life xc one of her featherd creatures broke away yet do not so but since i am near slain without thy help by me be borne alone thou of thy self thy sweet self dost deceive xciii that hath his windows glazed with thine eyes to every hymn that able spirit affords thus policy in love to anticipate so runnst thou after that which flies from thee yet this thy praise cannot be so thy praise that wear this world out to the ending doom nor tender feeling to base touches prone thou canst not love disgrace me half so ill  effort to identify do copyright research on transcribe and proofread doing thee vantage doublevantage me cxiii  approach us with offers to donate doth spot the beauty of thy budding name love alters not with his brief hours and weeks to play the watchman ever for thy sake is lust in action and till action lust which die for goodness who have lived for crime as from my soul which in thy breast doth lie as the perfumed tincture of the roses to keep an adjunct to remember thee and truly not the morning sun of heaven who plead for love and look for recompense  this and all associated files of various formats will be found in  will be renamed resembling sire and child and happy mother farewell thou art too dear for my possessing but makes antiquity for aye his page ah wherefore with infection should he live a thousand groans but thinking on thy face the better angel is a man right fair for through the painter must you see his skill deaths second self that seals up all in rest save breed to brave him when he takes thee hence o though i love what others do abhor accuse me thus that i have scanted all whilst i thy babe chase thee afar behind that thou among the wastes of time must go without all bail shall carry me away that gainst thy self thou stickst not to conspire then need i not to fear the worst of wrongs which my heart knows the wide worlds common place  the applicable state lawthe invalidity or unenforceability of any such is my love to thee i so belong to be deaths conquest and make worms thine heir for thou betraying me i do betray and by and by clean starved for a look lose all and more by paying too much rent myself ill forfeit so that other mine which vulgar scandal stampd upon my brow to shun the heaven that leads men to this hell roses of shadow since his rose is true who in despite of view is pleased to dote ah yet doth beauty like a dialhand to hideous winter and confounds him there times thievish progress to eternity lxviii but love for love thus shall excuse my jade cxli my most true mind thus maketh mine untrue  creating derivative works based on this work or any other project compard with loss of thee will not seem so thy beautys form in table of my heart some glory in their birth some in their skill to swear against the truth so foul a lie which hides your life and shows not half your parts tell me thou lovst elsewhere but in my sight when in dead night thy fair imperfect shade it is so grounded inward in my heart serving with looks his sacred majesty look in your glass and there appears a face make answer muse wilt thou not haply say whereto th inviting time our fashion calls of mouthed graves will give thee memory alas tis true i have gone here and there now this illwresting world is grown so bad that she that makes me sin awards me pain all these i better in one general best have faculty by nature to subsist an eye more bright than theirs less false in rolling if i could write the beauty of your eyes but rising at thy name doth point out thee this i do vow and this shall ever be without accusing you of injury and captive good attending captain ill that thou no form of thee hast left behind how careful was i when i took my way calld to that audit by advisd respects such seems your beauty still three winters cold delights to peep to gaze therein on thee whilst i whom fortune of such triumph bars lxxvii if nature sovereign mistress over wrack  copying and distributing project gutenbergtm electronic works to as philomel in summers front doth sing which this times pencil or my pupil pen thou canst not then use rigour in my jail  set forth in the general terms of use part of this license apply to for that sweet odour which doth in it live  because of the efforts of hundreds of volunteers and donations from let those who are in favour with their stars in thy souls thought all naked will bestow it ii kissing with golden face the meadows green nor praise the deep vermilion in the rose look in thy glass and tell the face thou viewest pitiful thrivers in their gazing spent i do believe her though i know she lies when that churl death my bones with dust shall cover why should poor beauty indirectly seek their images i lovd i view in thee thy merit hath my duty strongly knit hate of my sin grounded on sinful loving which time and thoughts so sweetly doth deceive but day doth daily draw my sorrows longer if not from my loves breath the purple pride and for they looked but with divining eyes and dost him grace when clouds do blot the heaven and yet this time removed was summers time that time of year thou mayst in me behold  flimited right of replacement or refundif you discover a lo in the orient when the gracious light slandring creation with a false esteem or who is he so fond will be the tomb whereto the judgment of my heart is tied plods dully on to bear that weight in me let no unkind no fair beseechers kill lxxix cx and for my sake even so doth she abuse me as fast as objects to his beams assemble o him she stores to show what wealth she had by looking on thee in the living day within his bending sickles compass come but thou art all my art and dost advance my deepest sense how hard true sorrow hits from this vile world with vilest worms to dwell and then believe me my love is as fair in so profound abysm i throw all care but shoot not at me in your wakend hate lxxxiii the world will wail thee like a makeless wife make sweet some vial treasure thou some place holds in perfection but a little moment or if it do not from those lips of thine lxvii which works on leases of shortnumberd hours therefore i lie with her and she with me in true plain words by thy truetelling friend time doth transfix the flourish set on youth his rider lovd not speed being made from thee cxxxii the soil is this that thou dost common grow disdains the tillage of thy husbandry and fortify your self in your decay leaving thee living in posterity when to unseeing eyes thy shade shines so yet in these thoughts my self almost despising but not to tell of good or evil luck my love is as a fever longing still in process of the seasons have i seen and savd my life saying not you sweets with sweets war not joy delights in joy but heavy tears badges of eithers woe within thine own bud buriest thy content and husband natures riches from expense and suit thy pity like in every part  receive the work electronically in lieu of a refundif the second copy cxxvii had my friends muse grown with this growing age deserves the travail of a worthier pen to win me soon to hell my female evil let those whom nature hath not made for store to him that bears the strong offences cross and therefore to your fair no painting set as any she belied with false compare look what is best that best i wish in thee yet him for this my love no whit disdaineth in vowing new hate after new love bearing the right of sepulchres were shorn away dost thou upon thy fading mansion spend upon those boughs which shake against the cold that better is by evil still made better mine eyes have drawn thy shape and thine for me so then i am not lame poor nor despisd sweet flattery then she loves but me alone lxxviii cxlv like as to make our appetite more keen more worthy i to be belovd of thee like to the lark at break of day arising xvii your name from hence immortal life shall have or whether doth my mind being crownd with you and night doth nightly make griefs length seem stronger like feeble age he reeleth from the day that my steeld sense or changes right or wrong loves eye is not so true as all mens no but that wild music burthens every bough in one of thine from that which thou departest whilst like a willing patient i will drink lest sorrow lend me words and words express o learn to read what silent love hath writ by seeing farther than the eye hath shown when that shall vade by verse distills your truth thus do i pine and surfeit day by day the wiry concord that mine ear confounds that is so proud thy service to despise or bends with the remover to remove so will i pray that thou mayst have thy will i therefore in that i cannot know thy change in nothing art thou black save in thy deeds all frailties that besiege all kinds of blood cxlix when yellow leaves or none or few do hang the which he will not every hour survey making his style admired every where  eif an individual project gutenbergtm electronic work is derived that did my ripe thoughts in my brain inhearse but these particulars are not my measure shall neighno dull fleshin his fiery race robbd others beds revenues of their rents sent to the project gutenberg literary archive foundation at the vaunt in their youthful sap at height decrease that thou hast her it is not all my grief how far a modern quill doth come too short to see his active child do deeds of youth those lines that i before have writ do lie under that bond that him as fast doth bind  fexcept for the limited right of replacement or refund set forth no longer mourn for me when i am dead that use is not forbidden usury let me confess that we two must be twain but when she saw my woeful state of this our time all you prefiguring  active links or immediate access to the full terms of the project  entity to whom you paid the fee as set forth in paragraph e but like a sad slave stay and think of nought  with this agreement and any volunteers associated with the production  literary archive foundation are tax deductible to the full extent for how do i hold thee but by thy granting  where we have not received written confirmation of complianceto that all the world besides methinks are dead yet what of thee thy poet doth invent who hateth thee that i do call my friend finding the first conceit of love there bred all this the world well knows yet none knows well so is my love still telling what is told as fast as thou shalt wane so fast thou growst which like a jewel hung in ghastly night making a famine where abundance lies who all their parts of me to thee did give i never saw that you did painting need thy unused beauty must be tombed with thee hers by thy beauty tempting her to thee such civil war is in my love and hate have added feathers to the learneds wing authorizing thy trespass with compare o how thy worth with manners may i sing  that sinks down to death oppressd with melancholy those parts of thee that the worlds eye doth view more sharp to me than spurring to his side but that is in my thought whose love to you fairing the foul with arts false borrowed face i have no precious time at all to spend all men are bad and in their badness reign feedst thy lights flame with selfsubstantial fuel painting thy outward walls so costly gay like him that travels i return again lxxxvii and age in love loves not to have years told then hate me when thou wilt if ever now thenchurlstheir thoughts although their eyes were kind oer whom thy fingers walk with gentle gait  international donations are gratefully accepted but we cannot make  permitted by us federal laws and your states laws that by this separation i may give they rightly do inherit heavens graces  corrupt data transcription errors a copyright or other intellectual  foundation as set forth in sectionbelow that love is merchandizd whose rich esteeming too base of thee to be remembered a quest of thoughts all tenants to the heart the first my thought the other my desire the uncertain sickly appetite to please  with these requirementswe do not solicit donations in locations since why to love i can allege no cause o give thy self the thanks if aught in me therefore like her i sometime hold my tongue so am i as the rich whose blessed key then happy i that love and am belovd lvii but mutual render only me for thee that they behold and see not what they see tomorrow see again and do not kill a crow that flies in heavens sweetest air but that so much of earth and water wrought for canker vice the sweetest buds doth love if any be a satire to decay from where thou art why should i haste me thence one blushing shame another white despair as every alien pen hath got my use and darkly bright are bright in dark directed and their gross painting might be better usd  formany alternate format must include the full project gutenbergtm for i have sworn thee fair more perjurd i this silence for my sin you did impute for as you were when first your eye i eyd suns of the world may stain when heavens sun staineth  increasing the number of public domain and licensed works that can be when i consider every thing that grows by childrens eyes her husbands shape in mind do in consent shake hands to torture me for still temptation follows where thou art hath been before how are our brains beguild o ifi say you look upon this verse hath put a spirit of youth in every thing if thou wilt leave me do not leave me last  any statements concerning tax treatment of donations received from the other two slight air and purging fire wilt thou whose will is large and spacious so shall i live supposing thou art true or durst inhabit on a living brow do i not think on thee when i forgot his beauty shall in these black lines be seen or me to whom thou gavst it else mistaking not wondering at the present nor the past methinks no face so gracious is as mine injurious distance should not stop my way making lascivious comments on thy sport the bloody spur cannot provoke him on to that sweet thief which sourly robs from me a man in hue all hues in his controlling  one owns a united states copyright in these works so the foundation shall will in others seem right gracious toare particularly important to maintaining tax exempt  gutenbergtm license available with this file or online at  gutenberg literary archive foundation the owner of the project and thouall theyhast all the all of me thy proud hearts slave and vassal wretch to be that millions of strange shadows on you tend when in the least of them my life hath end thou art thy mothers glass and she in thee kind is my love today tomorrow kind as ill myself disgrace knowing thy will than in the breath that from my mistress reeks and sue a friend came debtor for my sake entitled in thy parts do crowned sit we sicken to shun sickness when we purge o blame me not if i no more can write and often is his gold complexion dimmd and die as fast as they see others grow or whether shall i say mine eye saith true  warranties of merchantability or fitness for any purpose then can no horse with my desire keep pace though yet heaven knows it is but as a tomb thou shouldst print more not let that copy die as a decrepit father takes delight and you in grecian tires are painted new for what care i who calls me well or ill thy gift thy tables are within my brain the project gutenberg literary archive foundation no matter then although my foot did stand lxxi hath left me and i desperate now approve no bitterness that i will bitter think  distribute copies of a project gutenbergtm work in a format other than neither in inward worth nor outward fair xcvi with mine own weakness being best acquainted by selfexample mayst thou be denied that this huge stage presenteth nought but shows against my love shall be as i am now this file should be named txt or zip   or cause to occur a distribution of this or any project gutenbergtm but as the marigold at the suns eye  number iscontributions to the project gutenberg thou best of dearest and mine only care as his triumphant prize proud of this pride when i have seen such interchange of state i grant sweet love thy lovely argument that in thy face sweet love should ever dwell and see thy blood warm when thou feelst it cold gilding the object whereupon it gazeth die to themselves sweet roses do not so which like two spirits do suggest me still nor draw no lines there with thine antique pen o change thy thought that i may change my mind came tripping by but in her maiden hand  please check the project gutenberg web pages for current donation and yet to times in hope my verse shall stand and you in every blessed shape we know  plain vanilla ascii or other format used in the official version o sure i am the wits of former days i see a better state to me belongs  prominently displaying the sentence set forth in paragraph e with when summers breath their masked buds discloses for to thy sensual fault i bring in sense then what could death do if thou shouldst depart a womans face with natures own hand painted clii but found no cure the bath for my help lies and with his presence grace impiety cheered and checked even by the selfsame sky  eif you wish to charge a fee or distribute a project gutenbergtm when love converted from the thing it was at first the very worst of fortunes might and the firm soil win of the watery main growing a bath and healthful remedy and puts apparel on my tatterd loving or being wrackd i am a worthless boat my love shall in my verse ever live young as those gold candles fixd in heavens air divert strong minds to the course of altering things for term of life thou art assured mine but that your trespass now becomes a fee vi dear heart forbear to glance thine eye aside use power with power and slay me not by art shall worms inheritors of this excess who for thy self art so unprovident but at my mistress eye loves brand newfired theirs for their style ill read his for his love  this ebook is for the use of anyone anywhere at no cost and with and brought to medicine a healthful state against that time if ever that time come where cupid got new fire my mistress eyes that thou in losing me shalt win much glory were it not sinful then striving to mend from sullen earth sings hymns at heavens gate xcix pity me then dear friend and i assure ye if thy soul check thee that i come so near i grant i never saw a goddess go nor can i fortune to brief minutes tell before a joy proposd behind a dream cxl electronic work is discovered and reported to you withindays or ten times happier be it ten for one past cure i am now reason is past care is it for fear to wet a widows eye upon that blessed wood whose motion sounds they had not skill enough your worth to sing and in our faults by lies we flatterd be  to learn more about the project gutenberg literary archive foundation after my deathdear love forget me quite i was not sick of any fear from thence o what a mansion have those vices got  used on or associated in any way with an electronic work by people who for thee against my self ill vow debate give them thy fingers me thy lips to kiss so thy great gift upon misprision growing xlix through heavy sleep on sightless eyes doth stay  fproject gutenberg volunteers and employees expend considerable xci my name be buried where my body is and that in guess they measure by thy deeds but bears it out even to the edge of doom then may i dare to boast how i do love thee whilst i alone did call upon thy aid have i not seen dwellers on form and favour to truths translated and for true things deemd which shall above that idle rank remain and in fresh numbers number all your graces  sectiongeneral terms of use and redistributing project gutenbergtm so long as men can breathe or eyes can see angry that his prescriptions are not kept so is it not with me as with that muse and worse essays provd thee my best of love  researchthey may be modified and printed and given awayyou may do if thou turn back and my loud crying still to make me give the lie to my true sight pluck the keen teeth from the fierce tigers jaws the constancy and virtue of your love and my great mind most kingly drinks it up that looks on tempests and is never shaken cries to catch her whose busy care is bent  of replacement or refund described in paragraph f the project for fear of which hear this thou age unbred since spite of him ill live in this poor rime and then thou lovst me for my name is will even in the eyes of all posterity despite of wrinkles this thy golden time and almost thence my nature is subdud  trademark owner and any distributor under this agreement will not be to give away yourself keeps yourself still why didst thou promise such a beauteous day  paragraph c belowthere are a lot of things you can do with project that i have frequent been with unknown minds when i shall see thee frown on my defects  trademarkcopyright agreementif you do not agree to abide by all like stones of worth they thinly placed are but in the onset come so shall i taste unless thou take that honour from thy name yet in good faith some say that thee behold  keep ebooks in compliance with any particular paper edition and place my merit in the eye of scorn what wretched errors hath my heart committed  gutenbergtm electronic works if you follow the terms of this agreement roses have thorns and silver fountains mud reserve them for my love not for their rhyme and all things turns to fair that eyes can see steal from his figure and no pace perceivd the expense of spirit in a waste of shame but let your love even with my life decay from thy behaviour beauty doth he give that tongue that tells the story of thy days  gutenbergtm workthe foundation makes no representations concerning being your slave what should i do but tend  the full project gutenberg license he pays the whole and yet am i not free cxxxv unmoved cold and to temptation slow myself corrupting salving thy amiss whose action is no stronger than a flower no i am that i am and they that level and they are rich and ransom all ill deeds nor that full star that ushers in the even yet who knows not conscience is born of love  and you can copy and distribute it in the united states without either not assaild or victor being chargd destroy all copies of the works possessed in a physical medium  provision of this agreement shall not void the remaining provisions xxxviii another time mine eye is my hearts guest xlvii so thou thyself outgoing in thy noon but yet be blamd if thou thy self deceivest xxvii from limits far remote where thou dost stay they that have power to hurt and will do none as with your shadow i with these did play he nor that affable familiar ghost thy end is truths and beautys doom and date three april perfumes in three hot junes burnd whose strengths abundance weakens his own heart cxlii where i may not remove nor be removd by oft predict that i in heaven find thy beauty and thy years full well befits the sun itself sees not till heaven clears so that myself bring water for my stain ere you were born was beautys summer dead nay if thou lourst on me do i not spend at my abuses reckon up their own  this agreement for keeping the project gutenbergtm name associated with  the foundation is committed to complying with the laws regulating a vengeful canker eat him up to death to me fair friend you never can be old which should example where your equal grew thus can my love excuse the slow offence three beauteous springs to yellow autumn turnd  the terms of this agreement you must cease using and return or destroy for sweetest things turn sourest by their deeds and you must live drawn by your own sweet skill in things of great receipt with ease we prove when my love swears that she is made of truth though words come hindmost holds his rank before  and permanent future for project gutenbergtm and future generations that you yourself being extant well might show to this i witness call the fools of time  keeping this work in the same format with its attached full project and let that pine to aggravate thy store from whence at pleasure thou mayst come and part than you shall hear the surly sullen bell  the sonnets but that i hope some good conceit of thine cxxii you still shall livesuch virtue hath my pen the cause of this fair gift in me is wanting betwixt mine eye and heart a league is took if the true concord of welltuned sounds by wilful taste of what thyself refusest and says in him thy fair appearance lies a loss in love that touches me more nearly that sin by him advantage should achieve i guess one angel in anothers hell the earth can have but earth which is his due  your equipment that beauty still may live in thine or thee for compound sweet forgoing simple savour the prey of worms my body being dead i sick withal the help of bath desired  freely sharing project gutenbergtm works in compliance with the terms of these offices so oft as thou wilt look thee have i not lockd up in any chest which many legions of true hearts had warmd which happies those that pay the willing loan but if thou live rememberd not to be were to import forgetfulness in me and even thence thou wilt be stoln i fear but slave to slavery my sweetst friend must be and perspective it is best painters art to put fair truth upon so foul a face thy hungry eyes even till they wink with fulness ah but those tears are pearl which thy love sheds though to itself it only live and die xlviii for truth proves thievish for a prize so dear and scarcely greet me with that sun thine eye  foundations web site and official page at wwwgutenbergorgcontact  project gutenbergtm depends upon and cannot survive without wide now while the world is bent my deeds to cross chiding that tongue that ever sweet poor soul the centre of my sinful earth as easy might i from my self depart i summon up remembrance of things past  for additional contact information and haply of our old acquaintance tell pity me then and wish i were renewd still losing when i saw myself to win now stand you on the top of happy hours you pay a royalty fee ofof the gross profits you derive from what merit do i in my self respect for summer and his pleasures wait on thee to find out shames and idle hours in me cannot dispraise but in a kind of praise which like a canker in the fragrant rose and in themselves their pride lies buried since mind at first in character was done that followed it as gentle day against this coming end you should prepare  posted on the official project gutenbergtm web site wwwgutenbergorg wooing his purity with her foul pride thou usurer that puttst forth all to use some say thy grace is youth and gentle sport xxii which have no correspondence with true sight when thou thy self dost give invention light devouring time blunt thou the lions paws thy bosom is endeared with all hearts that am debarred the benefit of rest because i would not dull you with my song then the conceit of this inconstant stay for blunting the fine point of seldom pleasure eat up thy charge is this thy bodys end but for their virtue only is their show from thee the pleasure of the fleeting year to make me tonguetied speaking of your fame whilst my poor lips which should that harvest reap there is such strength and warrantise of skill which for memorial still with thee shall stay no praise to thee but what in thee doth live whats new to speak what now to register no love toward others in that bosom sits  gutenbergtm electronic worksnearly all the individual works in the owed to the owner of the project gutenbergtm trademark but he lxiv for having traffic with thy self alone and given grace a double majesty vii thou art as tyrannous so as thou art though you do anything he thinks no ill enjoyd no sooner but despised straight and seald false bonds of love as oft as mine and each doth good turns now unto the other ciii and make me travel forth without my cloak hath motion and mine eye may be deceivd knowing thy heart torment me with disdain now proud as an enjoyer and anon cupid laid by his brand and fell asleep  fairbanks akbut its volunteers and employees are scattered bound for the prize of all too precious you although in me each part will be forgotten  and help preserve free future access to project gutenbergtm electronic licenseyou must require such a user to return or in act thy bedvow broke and new faith torn whilst many nymphs that vowd chaste life to keep and beauty slanderd with a bastard shame my heavy eyelids to the weary night and would corrupt my saint to be a devil the age to come would say this poet lies whose worths unknown although his height be taken whose speechless song being many seeming one then if he thrive and i be cast away and will to boot and will in overplus hiding thy bravery in their rotten smoke in me thou seest the twilight of such day consumd with that which it was nourishd by to leave for nothing all thy sum of good these blenches gave my heart another youth are windows to my breast wherethrough the sun but that thou none lovst is most evident and our dear love lose name of single one whose fresh repair if now thou not renewest the wrinkles which thy glass will truly show and sweets grown common lose their dear delight mine own true love that doth my rest defeat lix desiring this mans art and that mans scope you comply with all other terms of this agreement for free thine by thy beauty being false to me the dear respose for limbs with travel tird but do thy worst to steal thyself away which alters when it alteration finds which nightly gulls him with intelligence to follow that which flies before her face mine eye well knows what with his gust is greeing the worst was thismy love was my decay so that eternal love in loves fresh case  through e or obtain permission for the use of the work and the  assistance they need are critical to reaching project gutenbergtms but from thine eyes my knowledge i derive and so should you to love things nothing worth of public honour and proud titles boast  or any other work associated in any way with the phrase project whose influence is thine and born of thee could make me any summers story tell a maid of dians this advantage found they draw but what they see know not the heart mark how with my neglect i do dispense then beauteous niggard why dost thou abuse and more much more than in my verse can sit when in disgrace with fortune and mens eyes let me not to the marriage of true minds but flowers distilld though they with winter meet against that time when thou shalt strangely pass by those swift messengers returnd from thee crooked eclipses gainst his glory fight but since he died and poets better prove xxxvii where you may be or your affairs suppose yet do thy worst old time despite thy wrong how can i then be elder than thou art  subscribe to our email newsletter to hear about new ebooks o how much more doth beauty beauteous seem as subject to times love or to times hate who even but now come back again assurd viii to stand in thy affairs fall by thy side was sleeping by a virgin hand disarmd the humble as the proudest sail doth bear and every fair from fair sometime declines if thou survive my wellcontented day weighs not the dust and injury of age then look i death my days should expiate suspect i may yet not directly tell to entertain the time with thoughts of love he robs thee of and pays it thee again no marvel then though i mistake my view rough winds do shake the darling buds of may if thinking on me then should make you woe than when it hath my added praise beside but when i sleep in dreams they look on thee gentle thou art and therefore to be won of him myself and thee i am forsaken so your sweet hue which methinks still doth stand then gentle cheater urge not my amiss to subjects worse have given admiring praise that leaves look pale dreading the winters near and the just pleasure lost which is so deemd o me what eyes hath love put in my head  f i never writ nor no man ever lovd though thou repent yet i have still the loss in the distraction of this madding fever making dead wood more blessd than living lips her love for whose dear love i rise and fall but ah thought kills me that i am not thought but no such roses see i in her cheeks xli thou mayst be false and yet i know it not to say within thine own deep sunken eyes dissuade one foolish heart from serving thee painting my age with beauty of thy days wherein it finds a joy above the rest but since your worthwide as the ocean is where art thou muse that thou forgetst so long beauty oersnowed and bareness every where lxxxix as any mothers child though not so bright but when from highmost pitch with weary car is it thy spirit that thou sendst from thee in days long since before these last so bad is perjurd murderous bloody full of blame what freezings have i felt what dark days seen o none unless this miracle have might and stretched metre of an antique song my grief lies onward and my joy behind but wherefore says she not she is unjust thou gavst me thine not to give back again look what thy memory cannot contain lest i too much profane should do it wrong as thus mine eyes due is thy outward part thy black is fairest in my judgments place lvi his tender heir might bear his memory and you but one can every shadow lend that have profand their scarlet ornaments better becomes the grey cheeks of the east  aby reading or using any part of this project gutenbergtm or as sweetseasond showers are to the ground address specified in sectioninformation about donations to nor lose possession of that fair thou owst reserve their character with golden quill stirrd by a painted beauty to his verse with times injurious hand crushd and oerworn say that thou didst forsake me for some fault for there can live no hatred in thine eye my glass shall not persuade me i am old tis better to be vile than vile esteemd within be fed without be rich no more o carve not with thy hours my loves fair brow cliii clouds and eclipses stain both moon and sun and to the most of praise add something more where thou art forced to break a twofold truth lest the wise world should look into your moan and look upon myself and curse my fate  warranties of any kind express or implied including but not limited to to take a new acquaintance of thy mind unthrifty loveliness why dost thou spend if it were filld with your most high deserts the dedicated words which writers use points on me graciously with fair aspect  electronic work or any part of this electronic work without of the wide world dreaming on things to come and art made tonguetied by authority  the foundations principal office is located atmelan dr s yet doth it steal sweet hours from loves delight with my loves picture then my eye doth feast how many a holy and obsequious tear as those whose beauties proudly make them cruel and dig deep trenches in thy beautys field that having such a scope to show her pride to me are nothing novel nothing strange whr we are mended or whr better they the hardest knife illusd doth lose his edge  liability to you for damages costs and expenses including legal that it could so preposterously be staind calls back the lovely april of her prime speaking of worth what worth in you doth grow whilst i my sovereign watch the clock for you mad in pursuit and in possession so or if they sleep thy picture in my sight but sad mortality oersways their power how with this rage shall beauty hold a plea beyond all date even to eternity coral is far more red than her lips red the perfect ceremony of loves rite in a cold valleyfountain of that ground  including how to make donations to the project gutenberg literary haply i think on thee and then my state both grace and faults are lovd of more and less cxxxviii  access to the full project gutenbergtm license must appear prominently resembling strong youth in his middle age mine own selflove quite contrary i read and his lovekindling fire did quickly steep xlv full characterd with lasting memory  findemnityyou agree to indemnify and hold the foundation the but since she prickd thee out for womens pleasure and loathsome canker lives in sweetest bud this brand she quenched in a cool well by where beautys veil doth cover every blot to bitter sauces did i frame my feeding so either by thy picture or my love the one by toil the other to complain  flimited warranty disclaimer of damagesexcept for the right lascivious grace in whom all ill well shows cxxiv presents thy shadow to my sightless view our love was new and then but in the spring and to the painted banquet bids my heart wishing me like to one more rich in hope and in abundance addeth to his store pity the world or else this glutton be who taught thee how to make me love thee more and that thou teachest how to make one twain yourself to pardon of selfdoing crime leese but their show their substance still lives sweet if thy unworthiness raisd love in me return forgetful muse and straight redeem when i perceive that men as plants increase if time have any wrinkle graven there whereto all bonds do tie me day by day to say they err i dare not be so bold although she knows my days are past the best to make some special instant specialblest and when a woman woos what womans son ten times thy self were happier than thou art o that our night of woe might have rememberd  performing copying or distributing any project gutenbergtm works nor did i wonder at the lilys white make war upon this bloody tyrant time that poor retention could not so much hold hang on such thorns and play as wantonly start full license  for at a frown they in their glory die or who his spoil of beauty can forbid thats for thy self to breed another thee i hate she alterd with an end lxx and to his robbery had annexd thy breath therefore desire of perfectst love being made that then i scorn to change my state with kings be where you list your charter is so strong that due to thee which thou deservst alone the lily i condemned for thy hand  gutenberg you agree to comply with all the terms of the full project when beauty lived and died as flowers do now xiv  permission and without paying copyright royaltiesspecial rules  you must at no additional cost fee or expense to the user provide a if all were minded so the times should cease upon the farthest earth removd from thee which to repair should be thy chief desire to linger out a purposd overthrow if thou dost seek to have what thou dost hide when i have seen by times fell hand defacd revenge upon myself with present moan on both sides thus is simple truth suppressed while he insults oer dull and speechless tribes among a number one is reckond none by praising him here who doth hence remain  revenue servicethe foundations ein or federal tax identification and your sweet semblance to some other give i make my love engrafted to this store which husbandry in honour might uphold lxv join with the spite of fortune make me bow my nobler part to my gross bodys treason o how shall summers honey breath hold out even as when first i hallowd thy fair name  reuse it under the terms of the project gutenberg license included  gutenbergtm trademark and any other party distributing a project now with the drops of this most balmy time till i return of posting is no need  the defective work may elect to provide a replacement copy in lieu of a when thou art all the better part of me so flatter i the swartcomplexiond night my bonds in thee are all determinate thy face hath not the power to make love groan will will fulfil the treasure of thy love whilst it hath thought itself so blessed never the other as your bounty doth appear  the workyou can easily comply with the terms of this agreement by be as thy presence is gracious and kind thou art the grave where buried love doth live to live a second life on second head  liability breach of warranty or breach of contract except those lxxxvi your own glass shows you when you look in it  defects such as but not limited to incomplete inaccurate or from his low tract and look another way alack what poverty my muse brings forth they live unwood and unrespected fade and in this change is my invention spent and your true rights be termd a poets rage to guard the lawful reasons on thy part or if it were it bore not beautys name of his selflove to stop posterity what hast thou then more than thou hadst before what acceptable audit canst thou leave xxxv and her quietus is to render thee eternal numbers to outlive long date the manner of my pitywanting pain  gutenbergtm electronic work and you do not agree to be bound by the for whos so dumb that cannot write to thee let this sad interim like the ocean be then how when nature calls thee to be gone than both your poets can in praise devise what needst thou wound with cunning when thy might  permission of the copyright holder found at the beginning of this work as an unperfect actor on the stage before the golden tresses of the dead in polishd form of wellrefined pen for bending all my loving thoughts on thee but then my friends heart let my poor heart bail so should that beauty which you hold in lease to make him much outlive a gilded tomb that on himself such murdrous shame commits and taught it thus anew to greet comes home again on better judgement making o from what power hast thou this powerful might thy self thy foe to thy sweet self too cruel advantage on the kingdom of the shore cvii where wasteful time debateth with decay cxliii when most impeachd stands least in thy control grows fairer than at first more strong far greater and losing her my friend hath found that loss and discontinue all use of and all access to other copies of no time thou shalt not boast that i do change nor double penance to correct correction whereon the stars in secret influence comment why lovst thou that which thou receivst not gladly as on the finger of a throned queen so shall thou feed on death that feeds on men to the clear day with thy much clearer light not once vouchsafe to hide my will in thine  including obsolete old middleaged and new computersit exists till my bad angel fire my good one out ah do not when my heart hath scapd this sorrow with thy sweet fingers when thou gently swayst with means more blessed than my barren rhyme and swear that brightness doth not grace the day for no man well of such a salve can speak  edo not unlink or detach or remove the full project gutenbergtm although thou steal thee all my poverty o benefit of ill now i find true and tongues to be your being shall rehearse  ethe following sentence with active links to or other immediate  forth in this agreement you must obtain permission in writing from so should the lines of life that life repair  concept of a library of electronic works that could be freely shared thou art more lovely and more temperate doth part his function and is partly blind after a thousand victories once foild the canker blooms have full as deep a dye doth follow night who like a fiend you are my alltheworld and i must strive  property infringement a defective or damaged disk or other medium a as those two mourning eyes become thy face all days are nights to see till i see thee gord mine own thoughts sold cheap what is most dear cliv who leaves unswayd the likeness of a man so long lives this and this gives life to thee but my five wits nor my five senses can anon permit the basest clouds to ride and i am still with them and they with thee cxlvi so are those errors that in thee are seen save that my souls imaginary sight  to the project gutenbergtm license for all works posted with the  most people start at our web site which has the main pg search facility  collection are in the public domain in the united statesif an when not to be receives reproach of being cxxi finding thy worth a limit past my praise i sigh the lack of many a thing i sought for that which longer nurseth the disease and hang more praise upon deceased i all mine was thine before thou hadst this more he is contented thy poor drudge to be that to his subject lends not some small glory for well thou knowst to my dear doting heart lxxxii that you were once unkind befriends me now i hate from hate away she threw yet so they mourn becoming of their woe shall hate be fairer lodgd than gentle love more than that tongue that more hath more expressd and keep my drooping eyelids open wide hast thou the master mistress of my passion when i break twenty i am perjurd most with what i most enjoy contented least hung with the trophies of my lovers gone o let my looks be then the eloquence to change your day of youth to sullied night beauteous thou art therefore to be assaild when tyrants crests and tombs of brass are spent  feesyou agree that you have no remedies for negligence strict  archive foundation how to help produce our new ebooks and how to lean penury within that pen doth dwell or on my frailties why are frailer spies to side this title is impannelled excusing thy sins more than thy sins are i love not less though less the show appear yet then my judgment knew no reason why cxix be anchord in the bay where all men ride or made them swear against the thing they see  eyou may convert to and distribute this work in any binary and i my self am mortgagd to thy will  gutenbergtm ebooks with only a loose network of volunteer support xvi than those old nine which rhymers invocate with insufficiency my heart to sway want nothing that the thought of hearts can mend with beautys treasure ere it be selfkilld because he needs no praise wilt thou be dumb but as the riper should by time decease in winged speed no motion shall i know  sectioninformation about the mission of project gutenbergtm under the blow of thralled discontent  charge for the ebooks unless you receive specific permissionif you and sick of welfare found a kind of meetness lxix for nothing hold me so it please thee hold or gluttoning on all or all away  outside the united statesus laws alone swamp our small staff against thy reasons making no defence where breath most breathes even in the mouths of men  eyou may charge a reasonable fee for copies of or providing  interpreted to make the maximum disclaimer or limitation permitted by save where thou art not though i feel thou art to speak of that which gives thee all thy might speak of my lameness and i straight will halt lilies that fester smell far worse than weeds no let me be obsequious in thy heart that is so vexed with watching and with tears why of eyes falsehood hast thou forged hooks who art as black as hell as dark as night tempteth my better angel from my side even of five hundred courses of the sun thy self away art present still with me xliii if my slight muse do please these curious days and gain by ill thrice more than i have spent borne on the bier with white and bristly beard only my plague thus far i count my gain xlvi xii since brass nor stone nor earth nor boundless sea o no thy love though much is not so great  and how your efforts and donations can help see sectionsand  no love my love that thou mayst true love call flatter the mountain tops with sovereign eye that thou art blamd shall not be thy defect for thy neglect of truth in beauty dyd beshrew that heart that makes my heart to groan as truth and beauty shall together thrive the summers flower is to the summer sweet dost hold times fickle glass his fickle hour that she might think me some untutord youth i send them back again and straight grow sad all losses are restord and sorrows end seeking that beauteous roof to ruinate the second burthen of a former child be thou the tenth muse ten times more in worth from hence your memory death cannot take just to the time not with the time exchangd giving him aid my verse astonished against confounding ages cruel knife  with this ebook or online at wwwgutenbergorg excuse not silence so fort lies in thee unless you would devise some virtuous lie for we which now behold these present days lord of my love to whom in vassalage will play the tyrants to the very same what thou dost foist upon us that is old  foundation that i might see what the old world could say and both for my sake lay on me this cross and such a counterpart shall fame his wit and patience tame to sufferance bide each check then thou whose shadow shadows doth make bright worthy perusal stand against thy sight she carvd thee for her seal and meant thereby in things right true my heart and eyes have errd make thee another self for love of me to trust those tables that receive thee more but were some child of yours alive that time unlearned in the worlds false subtleties and wear their brave state out of memory l creating every bad a perfect best  please read this before you distribute or use this work  both the project gutenberg literary archive foundation and michael  contact links and up to date contact information can be found at the think all but one and me in that one will cl  northwest salt lake city utemail beauty no pencil beautys truth to lay mine appetite i never more will grind wound me not with thine eye but with thy tongue shall i compare thee to a summers day i should in thought control your times of pleasure was it the proud full sail of his great verse o for my sake do you with fortune chide yet mortal looks adore his beauty still never believe though in my nature reignd  copying distributing performing displaying or creating derivative xciv xx thus far for love my lovesuit sweet fulfil cxxix  copy a means of exporting a copy or a means of obtaining a copy upon o call not me to justify the wrong that thou consumst thy self in single life to me that languishd for her sake o how i faint when i of you do write and soon to you as you to me then tenderd  license as specified in paragraph e to critic and to flatterer stopped are and for myself mine own worth do define but best is best if never intermixd  literary archive foundation thy glass will show thee how thy beauties wear crawls to maturity wherewith being crownd so then thou hast but lost the dregs of life featurd like him like him with friends possessd but when my glass shows me myself indeed for nothing this wide universe i call how far i toil still farther off from thee and yet methinks i have astronomy how sweet and lovely dost thou make the shame cxiv and found such fair assistance in my verse to do more for me than mine own desert  in paragraph f this work is provided to you asis with no other and maiden virtue rudely strumpeted if my dear love were but the child of state two loves i have of comfort and despair for if i should despair i should grow mad ci which though it alter not loves sole effect commit to these waste blanks and thou shalt find cxxx to eat the worlds due by the grave and thee grant if thou wilt thou art belovd of many  word processing or hypertext formhowever if you provide access to or for if it see the rudst or gentlest sight truth needs no colour with his colour fixd the sea all water yet receives rain still  such as creation of derivative works reports performances and  work or any other work associated with project gutenbergtm iv how heavy do i journey on the way fair kind and true is all my argument my tonguetied patience with too much disdain but thou to whom my jewels trifles are with others thou shouldst not abhor my state am of my self all tyrant for thy sake your shallowest help will hold me up afloat but then begins a journey in my head when that mine eye is famishd for a look so thou preventst his scythe and crooked knife cxx but when in thee times furrows i behold to set a form upon desired change  license terms from this work or any files containing a part of this within the knowledge of mine own desert the painful warrior famoused for fight which used lives th executor to be when most i wink then do mine eyes best see so all their praises are but prophecies and heavily from woe to woe tell oer  electronic work you indicate that you have read understand agree to who will believe my verse in time to come thence comes it that my name receives a brand prepare or are legally required to prepare your periodic tax wretched in this alone that thou mayst take a dearer birth than this his love had brought her eyes so suited and they mourners seem yet seemd it winter still and you away a torment thrice threefold thus to be crossd compare them with the bettring of the time which borrowd from this holy fire of love attending on his golden pilgrimage xxix till each to razd oblivion yield his part since seldom coming in that long year set most true it is that i have lookd on truth  a constant state of changeif you are outside the united states check how can my muse want subject to invent and yet it may be said i loved her dearly and sable curls all silvered oer with white and make times spoils despised every where the humble salve which wounded bosoms fits  state of mississippi and granted tax exempt status by the internal when your sweet issue your sweet form should bear as victors of my silence cannot boast and all those friends which i thought buried or captain jewels in the carcanet and follydoctorlikecontrolling skill that heavy saturn laughd and leapd with him distilld from limbecks foul as hell within lest eyes wellseeing thy foul faults should find and my next self thou harder hast engrossd than of your graces and your gifts to tell or to thyself at least kindhearted prove liii my spirit is thine the better part of me and peace proclaims olives of endless age o that you were your self but love you are but thou art twice forsworn to me love swearing to march in ranks of better equipage tan sacred beauty blunt the sharpst intents and they shall live and he in them still green no want of conscience hold it that i call but weep to have that which it fears to lose thy love is better than high birth to me now counting best to be with you alone and like enough thou knowst thy estimate is but the seemly raiment of my heart and rather make them born to our desire and all those beauties whereof now hes king that may express my love or thy dear merit no shape so true no truth of such account therefore to give them from me was i bold when proudpied april dressd in all his trim i see descriptions of the fairest wights for thy sweet love rememberd such wealth brings more flowers i noted yet i none could see being your vassal bound to stay your leisure that they elsewhere might dart their injuries my body is the frame wherein tis held will sourly leave her till he have prevaild lo thus by day my limbs by night my mind give salutation to my sportive blood how like a winter hath my absence been and made my self a motley to the view lii if i lose thee my loss is my loves gain but be contented when that fell arrest that every word doth almost tell my name lxxxiv do not so much as my poor name rehearse since i left you mine eye is in my mind if that be fair whereon my false eyes dote  electronic work or group of works on different terms than are set book both my wilfulness and errors down which i by lacking have supposed dead to mar the subject that before was well is from the book of honour razed quite lxxxv when sparkling stars twire not thou gildst the even thy pity may deserve to pitied be which labouring for invention bear amiss and him as for a map doth nature store but love hate on for now i know thy mind my mistress eyes are nothing like the sun which three till now never kept seat in one how like eves apple doth thy beauty grow  are removedof course we hope that you will support the project mad slanderers by mad ears believed be but out alack he was but one hour mine sweet beauty hath no name no holy bower those pretty wrongs that liberty commits seems seeing but effectually is out when as thy love hath cast his utmost sum and in his thoughts of love doth share a part to be so tickled they would change their state and all my soul and all my every part against the stormy gusts of winters day your monument shall be my gentle verse not mine own fears nor the prophetic soul let him but copy what in you is writ xxxiii thou by thy dials shady stealth mayst know thou art the fairest and most precious jewel o in what sweets dost thou thy sins enclose nor it nor no remembrance what it was of princes shall outlive this powerful rhyme triumph in love flesh stays no farther reason the living record of your memory the boy for trial needs would touch my breast that did not better for my life provide nativity once in the main of light why with the time do i not glance aside may time disgrace and wretched minutes kill look what an unthrift in the world doth spend that nothing me a something sweet to thee that he shall never cut from memory upon thy side against myself ill fight and to enlighten thee gave eyes to blindness and do whateer thou wilt swiftfooted time our dates are brief and therefore we admire that in black ink my love may still shine bright thou truly fair wert truly sympathizd which on thy soft cheek for complexion dwells of plagues of dearths or seasons quality to witness duty not to show my wit you provide in accordance with paragraph f a full refund of any thou dost love her because thou knowst i love her against the wrackful siege of battering days and for that riches where is my deserving  warranties or the exclusion or limitation of certain types of damages yourself again after yourselfs decease look whom she best endowd she gave thee more so long as youth and thou are of one date  gutenbergtm license when you share it without charge with others  if any disclaimer or limitation set forth in this agreement violates the since what he owes thee thou thyself dost pay the scope and tenure of thy jealousy the roses fearfully on thorns did stand of different flowers in odour and in hue there lives more life in one of your fair eyes of thy fair health recounting it to me they were but sweet but figures of delight  to donate please visitwwwgutenbergorgdonate while comments of your praise richly compild the world will be thy widow and still weep which but today by feeding is allayd then in the number let me pass untold  collectiondespite these efforts project gutenbergtm electronic i may be straight though they themselves be bevel praising thy worth despite his cruel hand with ugly rack on his celestial face the more i hear and see just cause of hate therefore my verse to constancy confind this were to be new made when thou art old thus is his cheek the map of days outworn for neverresting time leads summer on so dost thou too and therein dignified  e o what a happy title do i find others but stewards of their excellence that thy unkindness lays upon my heart darkening thy power to lend base subjects light then others for the breath of words respect so thou be good slander doth but approve to leave poor me thou hast the strength of laws xxviii the coward conquest of a wretchs knife o let it then as well beseem thy heart  is also defective you may demand a refund in writing without further can bring him to his sweet uplocked treasure then lacked i matter that enfeebled mine let not my love be calld idolatry to tie up envy evermore enlargd now all is done save what shall have no end from fairest creatures we desire increase and barren rage of deaths eternal cold the pain be mine but thine shall be the praise as high as learning my rude ignorance and take thou my oblation poor but free or as the wardrobe which the robe doth hide the imprisond absence of your liberty making their tomb the womb wherein they grew and i a tyrant have no leisure taken  works mine eye and heart are at a mortal war or i shall live your epitaph to make i must each day say oer the very same although our undivided loves are one xcviii for men diseasd but i my mistress thrall it is my love that keeps mine eye awake and stops her pipe in growth of riper days for then my thoughtsfrom far where i abide bring me within the level of your frown cxxv let me excuse thee ah my love well knows for she hath no exchequer now but his since that my life on thy revolt doth lie and thou away the very birds are mute canst thou o cruel say i love thee not and burn the longlivd phoenix in her blood by adding one thing to my purpose nothing potions of eisel gainst my strong infection and you and love are still my argument such cherubins as your sweet self resemble bearing thy heart which i will keep so chary the crow or dove it shapes them to your feature sing to the ear that doth thy lays esteem for every vulgar paper to rehearse and brass eternal slave to mortal rage  subject to the trademark license especially commercial to show me worthy of thy sweet respect and mock you with me after i am gone nor are mine ears with thy tongues tune delighted or say with princes if it shall go well my soul doth tell my body that he may dost thou desire my slumbers should be broken my verse alone had all thy gentle grace by unions married do offend thine ear cli  before downloading copying displaying performing distributing or supposed as forfeit to a confind doom i love to hear her speak yet well i know i think good thoughts whilst others write good words than niggard truth would willingly impart mine eye hath playd the painter and hath stelld when to the sessions of sweet silent thought  all copies of project gutenbergtm electronic works in your possession awakes my heart to hearts and eyes delight make glad and sorry seasons as thou fleets sweet thief whence didst thou steal thy sweet that smells that overgoes my blunt invention quite and kept unused the user so destroys it but thou wilt not nor he will not be free to let base clouds oertake me in my way but you shall shine more bright in these contents then do thy office muse i teach thee how  request of the work in its original plain vanilla ascii or other the spirit of love with a perpetual dulness and to be praisd of ages yet to be  throughout numerous locationsits business office is located at  thine eyes that taught the dumb on high to sing save what is had or must from you be took for i impair not beauty being mute give my love fame faster than time wastes life and all in war with time for love of you you are so strongly in my purpose bred give warning to the world that i am fled thus have i had thee as a dream doth flatter  remain freely available for generations to comeinthe project and that which governs me to go about unless this general evil they maintain in tender embassy of love to thee how much more praise deservd thy beautys use  bproject gutenberg is a registered trademarkit may only be him in thy course untainted do allow commanded by the motion of thine eyes for i have sworn thee fair and thought thee bright of my dull bearer when from thee i speed when i was certain oer incertainty it suffers not in smiling pomp nor falls simply i credit her falsespeaking tongue herein lives wisdom beauty and increase my heart mine eye the freedom of that right but thence i learn and find the lesson true were an alleating shame and thriftless praise a womans gentle heart but not acquainted xxxi weary with toil i haste me to my bed which shall be most my glory being dumb mark how one string sweet husband to another  agree to be bound by the terms of this agreementthere are a few i tell the day to please him thou art bright and all they foul that thy complexion lack lxxvi when sometime lofty towers i see downrazd incertainties now crown themselves assurd to kiss the tender inward of thy hand or else of thee this i prognosticate cxxxvii but reckoning time whose milliond accidents xxxvi but if that flower with base infection meet than that which on thy humour doth depend cxxxiii richer than wealth prouder than garments costs even so my sun one early morn did shine for as the sun is daily new and old where cheeks need blood in thee it is abusd and do not drop in for an afterloss even such a beauty as you master now that every tongue says beauty should look so then thou alone kingdoms of hearts shouldst owe take all my comfort of thy worth and truth counting no old thing old thou mine i thine in my loves veins thou hast too grossly dyd and each though enemies to eithers reign until lifes composition be recurd and needy nothing trimmd in jollity httpwwwgutenbergorg  particular state visit wwwgutenbergorgdonate me for my dumb thoughts speaking in effect though in our lives a separable spite from heaven to hell is flown away yet nor the lays of birds nor the sweet smell and to be sure that is not false i swear and on just proof surmise accumulate  opportunities to fix the problem perforce am thine and all that is in me uttering bare truth even so as foes commend and for a woman wert thou first created even for this let us divided live  liable to you for actual direct indirect consequential punitive or be wise as thou art cruel do not press  unless you comply with paragraph e or e as the deathbed whereon it must expire sets you most rich in youth before my sight oerchargd with burthen of mine own loves might although i swear it to myself alone and yet by heaven i think my love as rare nor taste nor smell desire to be invited and proud of many lives upon his gains with all triumphant splendour on my brow my saucy bark inferior far to his which in their wills count bad what i think good i have seen roses damaskd red and white my tonguetied muse in manners holds her still fair kind and true have often livd alone which is not mixd with seconds knows no art blessed are you whose worthiness gives scope as he takes from you i engraft you new so thou being rich in will add to thy will a closet never piercd with crystal eyes proving his beauty by succession thine then thank him not for that which he doth say thou blind fool love what dost thou to mine eyes and gives thy pen both skill and argument to be diseasd ere that there was true needing that i may not be so nor thou belied looking with pretty ruth upon my pain sets down her babe and makes all swift dispatch beautys effect with beauty were bereft what can mine own praise to mine own self bring have eyes to wonder but lack tongues to praise spending again what is already spent  copied or distributed o absence what a torment wouldst thou prove the one doth shadow of your beauty show hath dear religious love stoln from mine eye the rose looks fair but fairer we it deem so should my papers yellowd with their age  status with the irs  law of the state applicable to this agreement the agreement shall be nor can thy shame give physic to my grief prison my heart in thy steel bosoms ward lxii i must attend times leisure with my moan by that sweet ornament which truth doth give for thee and for myself no quiet find cv they look into the beauty of thy mind and from the forlorn world his visage hide beated and choppd with tanned antiquity made old offences of affections new  harmless from all liability costs and expenses including legal fees at such who not born fair no beauty lack but do not so i love thee in such sort both find each other and i lose both twain o loves best habit is in seeming trust  the project gutenberg literary archive foundation is a non profit how can it o how can loves eye be true against strange maladies a sovereign cure or whether revolution be the same and of this book this learning mayst thou taste lxxv nor need i tallies thy dear love to score to newfound methods and to compounds strange  promotion and distribution of project gutenbergtm electronic works against that time do i ensconce me here to dry the rain on my stormbeaten face i all alone beweep my outcast state these presentabsent with swift motion slide upon the hours and times of your desire the lovely gaze where every eye doth dwell save that to die i leave my love alone and found it in thy cheek he can afford from you have i been absent in the spring or heart in love with sighs himself doth smother as i not for myself but for thee will or if they sing tis with so dull a cheer drugs poison him that so fell sick of you at random from the truth vainly expressd x so now i have confessd that he is thine do i envy those jacks that nimble leap xcvii most worthy comfort now my greatest grief and many maiden gardens yet unset yet eyes this cunning want to grace their art i grant thou wert not married to my muse that i in thy abundance am sufficd and therefore have i slept in your report  receive a refund of the money if any you paid for it by sending a v which in thy breast doth live as thine in me  damage xv lo as a careful housewife runs to catch gbnewbypglaforg xxxiv was usd in giving gentle doom is more than my oerpressd defence can bide why should false painting imitate his cheek if thy sweet virtue answer not thy show with eager compounds we our palate urge lest guilty of my faults thy sweet self prove come in the rearward of a conquerd woe  things that you can do with most project gutenbergtm electronic works when i was wont to greet it with my lays the most sweet favour or deformedst creature and thence this slander as i think proceeds stealing unseen to west with this disgrace xlii and having thee of all mens pride i boast all men make faults and even i in this but wherefore do not you a mightier way but for his theft in pride of all his growth for you in me can nothing worthy prove or any of these all or all or more great princes favourites their fair leaves spread thy adverse party is thy advocate and therefore mayst without attaint oerlook now is the time that face should form another then should i spur though mounted on the wind the argument all bare is of more worth  received the work on a physical medium you must return the medium with the clear eyes moiety and the dear hearts part  methods and addressesdonations are accepted in a number of other the basest weed outbraves his dignity looking on darkness which the blind do see chief executive and director but now is black beautys successive heir presume not on thy heart when mine is slain  and accept all the terms of this license and intellectual property and right perfection wrongfully disgracd bear thine eyes straight though thy proud heart go wide a liquid prisoner pent in walls of glass the region cloud hath maskd him from me now for slanders mark was ever yet the fair than when her mournful hymns did hush the night  volunteers and financial support to provide volunteers with the and though they be outstrippd by every pen like a deceived husband so loves face that time will come and take my love away for when these quicker elements are gone and for the peace of you i hold such strife much liker than your painted counterfeit feeds on the rarities of natures truth as if by some instinct the wretch did know of others voices that my adders sense he of tall building and of goodly pride sap checked with frost and lusty leaves quite gone in gentle numbers time so idly spent the little lovegod lying once asleep lxiii but all alone stands hugely politic on your broad main doth wilfully appear and dumb presagers of my speaking breast the forward violet thus did i chide xxv or at your hand the account of hours to crave c xxiv even so being full of your neercloying sweetness than this rich praisethat you alone are you even to thy pure and most most loving breast tis theemyselfthat for myself i praise but being both from me both to each friend they are the lords and owners of their faces without this folly age and cold decay might i not then say now i love you best sin of selflove possesseth all mine eye  project gutenbergtm is synonymous with the free distribution of o therefore love be of thyself so wary cxvii xi though i once gone to all the world must die and thither hied a sad distemperd guest that for thy right myself will bear all wrong  gutenbergtm license  what you can do with this workcopyright laws in most countries are in not blame your pleasure be it ill or well one thing expressing leaves out difference root pity in thy heart that when it grows and every fair with his fair doth rehearse if snow be white why then her breasts are dun why is my verse so barren of new pride music to hear why hearst thou music sadly xcii those children nursed deliverd from thy brain  university library html version by al haines kill me with spites yet we must not be foes beggard of blood to blush through lively veins i will acquaintance strangle and look strange art left the prey of every vulgar thief o lest the world should task you to recite thy looks with me thy heart in other place and weep afresh loves long since cancelld woe a third nor red nor white had stoln of both and do so love yet when they have devisd cxxxvi wherein i should your great deserts repay thy dial how thy precious minutes waste of faults conceald wherein i am attainted admit impediments love is not love for thee watch i whilst thou dost wake elsewhere so love be thou although today thou fill  sectiongeneral information about project gutenbergtm electronic being had to triumph being lacked to hope'"
      ]
     },
     "execution_count": 43,
     "metadata": {},
     "output_type": "execute_result"
    }
   ],
   "source": [
    "# this is our joinned clean sonnet data\n",
    "text"
   ]
  },
  {
   "cell_type": "code",
   "execution_count": 44,
   "metadata": {},
   "outputs": [
    {
     "data": {
      "text/plain": [
       "53440"
      ]
     },
     "execution_count": 44,
     "metadata": {},
     "output_type": "execute_result"
    }
   ],
   "source": [
    "# randomly pick a starting index \n",
    "# will be used to take a random sequence of chars from `text`\n",
    "# run this cell a few times and you'll see `start_index` is random\n",
    "start_index = random.randint(0, len(text) - dctk.maxlen - 1)\n",
    "start_index"
   ]
  },
  {
   "cell_type": "code",
   "execution_count": 45,
   "metadata": {},
   "outputs": [
    {
     "data": {
      "text/plain": [
       "'e course of altering things for term of l'"
      ]
     },
     "execution_count": 45,
     "metadata": {},
     "output_type": "execute_result"
    }
   ],
   "source": [
    "# next use the randomly selected starting index to sample a sequence from the `text`\n",
    "\n",
    "# this is our seed string (i.e. input seqeunce into the model)\n",
    "generated = \"\"\n",
    "\n",
    "# start the sentence at index `start_index` and include the next` dctk.maxlen` number of chars\n",
    "sentence = text[start_index: start_index + dctk.maxlen]\n",
    "\n",
    "# add to generated\n",
    "generated += sentence\n",
    "\n",
    "generated"
   ]
  },
  {
   "cell_type": "code",
   "execution_count": 46,
   "metadata": {},
   "outputs": [
    {
     "name": "stdout",
     "output_type": "stream",
     "text": [
      "----- Generating with seed: \"e course of altering things for term of l\"\n",
      "e course of altering things for term of l"
     ]
    }
   ],
   "source": [
    "# this block of code let's us know what the seed string is \n",
    "# i.e. the input seqeunce into the model\n",
    "print('----- Generating with seed: \"' + sentence + '\"')\n",
    "sys.stdout.write(generated)"
   ]
  },
  {
   "cell_type": "code",
   "execution_count": 47,
   "metadata": {},
   "outputs": [],
   "source": [
    "# use model to predict what the next 40 chars should be that follow the seed string\n",
    "for i in range(40):\n",
    "\n",
    "    # shape of a single sample in a rank 3 tensor \n",
    "    x_dims = (1, dctk.maxlen, dctk.n_features)\n",
    "    # create an array of zeros with shape x_dims\n",
    "    # recall that python considers zeros and boolean FALSE as the same\n",
    "    x_pred = np.zeros(x_dims)\n",
    "\n",
    "    # create a seq vector for our randomly select sequence \n",
    "    # i.e. create a numerical encoding for each char in the sequence \n",
    "    for t, char in enumerate(sentence):\n",
    "        # for sample 0 in seq index t and character `char` encode a 1 (which is the same as a TRUE)\n",
    "        x_pred[0, t, dctk.char_int[char]] = 1\n",
    "\n",
    "    # next, take the seq vector and pass into model to get a prediction of what the next char should be \n",
    "    preds = lstm.predict(x_pred, verbose=0)[0]\n",
    "    # use the sample helper function to get index for next char \n",
    "    next_index = sample(preds)\n",
    "    # use look up dict to get next char \n",
    "    next_char = dctk.int_char[next_index]\n",
    "\n",
    "    # append next char to sequence \n",
    "    sentence = sentence[1:] + next_char "
   ]
  },
  {
   "cell_type": "code",
   "execution_count": 48,
   "metadata": {},
   "outputs": [
    {
     "data": {
      "text/plain": [
       "'e course of altering things for term of l'"
      ]
     },
     "execution_count": 48,
     "metadata": {},
     "output_type": "execute_result"
    }
   ],
   "source": [
    "# this is the seed string\n",
    "generated"
   ]
  },
  {
   "cell_type": "code",
   "execution_count": 49,
   "metadata": {},
   "outputs": [
    {
     "data": {
      "text/plain": [
       "'luese within the praise hsuldes in my did'"
      ]
     },
     "execution_count": 49,
     "metadata": {},
     "output_type": "execute_result"
    }
   ],
   "source": [
    "# these are the 40 chars that the model thinks should come after the seed stirng\n",
    "sentence"
   ]
  },
  {
   "cell_type": "code",
   "execution_count": 50,
   "metadata": {},
   "outputs": [
    {
     "data": {
      "text/plain": [
       "'e course of altering things for term of lluese within the praise hsuldes in my did'"
      ]
     },
     "execution_count": 50,
     "metadata": {},
     "output_type": "execute_result"
    }
   ],
   "source": [
    "# how put it all together\n",
    "generated + sentence"
   ]
  },
  {
   "cell_type": "markdown",
   "metadata": {
    "colab_type": "text",
    "id": "zE4a4O7Bp5x1"
   },
   "source": [
    "# Resources and Stretch Goals"
   ]
  },
  {
   "cell_type": "markdown",
   "metadata": {
    "colab_type": "text",
    "id": "uT3UV3gap9H6"
   },
   "source": [
    "## Stretch goals:\n",
    "- Refine the training and generation of text to be able to ask for different genres/styles of Shakespearean text (e.g. plays versus sonnets)\n",
    "- Train a classification model that takes text and returns which work of Shakespeare it is most likely to be from\n",
    "- Make it more performant! Many possible routes here - lean on Keras, optimize the code, and/or use more resources (AWS, etc.)\n",
    "- Revisit the news example from class, and improve it - use categories or tags to refine the model/generation, or train a news classifier\n",
    "- Run on bigger, better data\n",
    "\n",
    "## Resources:\n",
    "- [The Unreasonable Effectiveness of Recurrent Neural Networks](https://karpathy.github.io/2015/05/21/rnn-effectiveness/) - a seminal writeup demonstrating a simple but effective character-level NLP RNN\n",
    "- [Simple NumPy implementation of RNN](https://github.com/JY-Yoon/RNN-Implementation-using-NumPy/blob/master/RNN%20Implementation%20using%20NumPy.ipynb) - Python 3 version of the code from \"Unreasonable Effectiveness\"\n",
    "- [TensorFlow RNN Tutorial](https://github.com/tensorflow/models/tree/master/tutorials/rnn) - code for training a RNN on the Penn Tree Bank language dataset\n",
    "- [4 part tutorial on RNN](http://www.wildml.com/2015/09/recurrent-neural-networks-tutorial-part-1-introduction-to-rnns/) - relates RNN to the vanishing gradient problem, and provides example implementation\n",
    "- [RNN training tips and tricks](https://github.com/karpathy/char-rnn#tips-and-tricks) - some rules of thumb for parameterizing and training your RNN"
   ]
  }
 ],
 "metadata": {
  "kernelspec": {
   "display_name": "U4-S3-DL (Python3)",
   "language": "python",
   "name": "u4-s3-dl"
  },
  "language_info": {
   "codemirror_mode": {
    "name": "ipython",
    "version": 3
   },
   "file_extension": ".py",
   "mimetype": "text/x-python",
   "name": "python",
   "nbconvert_exporter": "python",
   "pygments_lexer": "ipython3",
   "version": "3.9.2"
  },
  "nteract": {
   "version": "0.23.3"
  }
 },
 "nbformat": 4,
 "nbformat_minor": 4
}
